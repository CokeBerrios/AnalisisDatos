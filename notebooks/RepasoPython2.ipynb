{
 "cells": [
  {
   "cell_type": "markdown",
   "id": "0a192066",
   "metadata": {},
   "source": [
    "# Repaso Python II"
   ]
  },
  {
   "cell_type": "markdown",
   "id": "e67bd67a",
   "metadata": {},
   "source": [
    "## Continuación de ciclos\n",
    "\n",
    "***El while se usa hasta conseguir que la condición definida por el ususario es cierta o para correr código infinitamente***\n",
    "\n",
    "    while condicion es cierta:\n",
    "    instruccion\n",
    "    instruccion\n",
    "    .\n",
    "    .\n",
    "    instruccion```\n",
    "\n",
    "***El for se usa para iterar sobre algo, que puede ser una lista o un string***\n",
    "\n",
    "    for i in lista:\n",
    "        instruccion\n",
    "        instruccion\n",
    "        .\n",
    "        .\n",
    "        instruccion\n",
    "\n",
    "***Los ciclos tienen cuatro componentes básicos:***\n",
    "\n",
    "```Inicialización```:  Es cuando se debe inicializar la variable que va a iterar, por ejemplo ```i = 0``` o la variable **i** del for (for **i** in lista)\n",
    "\n",
    "```Condición de repetición```: Hasta donde se ejecuta el ciclo. Por ejemplo ```for i in range(0,3)``` se ejecutará siempre y cuando i sea 0, 1 y 2. Ej.2: ```while x <= 6``` se ejecutará siempre y cuando x sea menor o igual a 6.\n",
    "\n",
    "```Cuerpo del ciclo```: Se ejecutan las instrucciones determinadas por el ususario dentro del ciclo.\n",
    "```Actualizar```: Actualizar la variable que itera para continuar el ciclo. En un ciclo while, es necesario incremetar/disminuir la variable Por ejemplo ```x = x + 1``` , ```x +=1``` . Por oreo lado en el for al usar ```range``` por defecto se incrementa en uno. \n",
    "\n",
    "\n",
    "\n",
    "## ¿Cómo podemos  tablas de multiplicar usando ciclos\n",
    "\n",
    " 1) Necesitamos una varible que almacenará lo que se mostrará en pantalla = string\n",
    " \n",
    " 2) el primer cliclo for nos sirve para definir el rango de la tabla de multiplicar a realizar. Ej tabla del 1 al 3 , se colocará range(1,4)\n",
    " \n",
    " 3) El segundo ciclo, define los digitos que queremos multiplicar por ejemplo del 1 al 10 --> range(1,11)\n",
    " \n",
    " 4) Podemos definir una variable que contenga el valor de la multiplicación que serán los digitos del primer ciclo multiplicado por los digitos del segundo ciclo\n",
    " \n",
    " 5) Finalmente mostramos el resultado y si queremos mostrar con salto de linea, agregrar a la variable almacenadora string.\n",
    " \n",
    " \n",
    "\n"
   ]
  },
  {
   "cell_type": "code",
   "execution_count": 1,
   "id": "560acaed",
   "metadata": {},
   "outputs": [
    {
     "name": "stdout",
     "output_type": "stream",
     "text": [
      "1 * 1 = 1\n",
      "1 * 2 = 2\n",
      "1 * 3 = 3\n",
      "1 * 4 = 4\n",
      "1 * 5 = 5\n",
      "1 * 6 = 6\n",
      "1 * 7 = 7\n",
      "1 * 8 = 8\n",
      "1 * 9 = 9\n",
      "1 * 10 = 10\n",
      "2 * 1 = 2\n",
      "2 * 2 = 4\n",
      "2 * 3 = 6\n",
      "2 * 4 = 8\n",
      "2 * 5 = 10\n",
      "2 * 6 = 12\n",
      "2 * 7 = 14\n",
      "2 * 8 = 16\n",
      "2 * 9 = 18\n",
      "2 * 10 = 20\n",
      "3 * 1 = 3\n",
      "3 * 2 = 6\n",
      "3 * 3 = 9\n",
      "3 * 4 = 12\n",
      "3 * 5 = 15\n",
      "3 * 6 = 18\n",
      "3 * 7 = 21\n",
      "3 * 8 = 24\n",
      "3 * 9 = 27\n",
      "3 * 10 = 30\n",
      "\n"
     ]
    }
   ],
   "source": [
    "string=''\n",
    "\n",
    "for i in range(1,4):\n",
    "    for j in range(1,11):\n",
    "        mult = i * j\n",
    "        string += str(i) + ' * ' +str(j) + ' = ' + str(mult) \n",
    "        string +=\"\\n\"\n",
    "        \n",
    "print(string)"
   ]
  },
  {
   "cell_type": "markdown",
   "id": "31e7dfe0",
   "metadata": {},
   "source": [
    "## ¿Cómo se pueden hacer figuras usando ciclos? \n",
    "\n",
    "Vamos a ver como podemos hacer la siguiente figura:\n",
    "\n",
    "    +\n",
    "    ++\n",
    "    +++\n",
    "    ++++\n",
    "    +++++\n",
    "\n",
    "La secuencia es pensar que hay 5 filas y que a medida que la fila aumenta, tambien aumenta el numero de + por columna. Es decir, en la fila 1, hay 1 ```+```: en la fila2, hay 2 ```+```...etc hasta fila n hay n ```+```. \n",
    "Se debe llenar cada fila con asteriscos según el número de fila donde se encuentra la iteración. Al final se concatena un salto de línea. Para ello podemos usar :\n",
    "1. Un ciclo for \n",
    "\n",
    "2. Un ciclo for anidado.\n",
    "\n",
    "3. Concatenar un salto de línea.\n",
    "\n",
    "- Se define el número de filas: ```n=5```\n",
    "\n",
    "- Definimos una variable que contiene lo que vamos a imprimir: ```cointain```\n",
    "\n",
    "- En el primer ciclo for, generamos una variable ```i``` que tenga un ranfo de ```n+1```  ya que ```n``` es igual a 0, 1, 2, 3, 4. En este caso, en la primera vuelta ```i=0``` y no entra en el segundo for porque  no hay rango de 0. Es por ello que para lograr entrar en el segundo for las veces que necesitamos, se debe sumar ```1``` al valor ```n``` : ```range (n+1)```"
   ]
  },
  {
   "cell_type": "code",
   "execution_count": 2,
   "id": "0be97b3a",
   "metadata": {},
   "outputs": [
    {
     "name": "stdout",
     "output_type": "stream",
     "text": [
      "\n",
      "+\n",
      "++\n",
      "+++\n",
      "++++\n",
      "+++++\n",
      "\n"
     ]
    }
   ],
   "source": [
    "n = 5\n",
    "\n",
    "contain =''\n",
    "for i in range(n+1):\n",
    "    for j in range(i):\n",
    "        contain +='+'\n",
    "    if i != n+1:    \n",
    "        contain +='\\n'\n",
    "        \n",
    "print(contain)"
   ]
  },
  {
   "cell_type": "markdown",
   "id": "a0660f7d",
   "metadata": {},
   "source": [
    "## Hacer la misma figura al revés \n",
    "    +++++\n",
    "    ++++\n",
    "    +++\n",
    "    ++\n",
    "    +\n",
    " \n",
    " Iteración 0: ```5 - 0 = 5```\n",
    " \n",
    " Iteración 1: ```5 - 1 = 4```\n",
    " \n",
    " Iteración 2: ```5 - 2 = 3```\n",
    " \n",
    " Iteración 4: ```5 - 3 = 2```\n",
    " \n",
    " Iteración 5: ```5 - 4 = 1```"
   ]
  },
  {
   "cell_type": "code",
   "execution_count": 3,
   "id": "3689888d",
   "metadata": {},
   "outputs": [
    {
     "name": "stdout",
     "output_type": "stream",
     "text": [
      "+++++\n",
      "++++\n",
      "+++\n",
      "++\n",
      "+\n",
      "\n"
     ]
    }
   ],
   "source": [
    "n = 5\n",
    "contain=''\n",
    "for i in range(n):\n",
    "    for j in range(n - i): \n",
    "        contain += '+'\n",
    "    contain += '\\n' \n",
    "print(contain)"
   ]
  },
  {
   "cell_type": "markdown",
   "id": "16960897",
   "metadata": {},
   "source": [
    "# Funciones"
   ]
  },
  {
   "cell_type": "markdown",
   "id": "76eeab00",
   "metadata": {},
   "source": [
    "- Las funciones nos permiten agrupar instrucciones y reutilizarlas.\n",
    "- Una funcion puede devolver un valor o no devolver nada. Por ejemplo, ya hemos usadao anteriormente la función ```print()``` que muestra por pantalla lo que le entregamos y la función ```input()``` que solo almacena el input entregado por el usuario.\n",
    "- Las funciones se pueden llamar desde el espacio de trabajo principal como ```función()```. Ej. ```print()```, ```len()```\n",
    "- Tambien se pueden llamar dentro de objetos como ```objeto.función()```. Ej. ```\"hola\".upper```\n",
    "- Se pueden llamar dentro de las clases como ```Clase.función()```. Ej. ```LinearRegression().fit()```\n",
    "- Se pueden llamar ademas dentro de módulos como ```módulo.función()``` Ej. ```math.sqrt()```\n",
    "\n",
    "### Algunas carateristicas\n",
    "\n",
    "- Se pueden importar desde un archivo o desde librerías externas \n",
    "- Se organizan en torno a clases y módulos\n",
    "- Se usan para la programación ***modular*** : Dividir un programa en funciones independientes.\n",
    "- Pueden tener tres partes: ***nombre***, ***parámetros*** y ***valor de retorno***\n",
    "```nombre``` no puede ser una palabra reservada  y se define como ```def```nombre_funcion\n",
    "\n",
    "***Ejemplo de donde es adecuado usar una función: Realizar una calculadora simple: se puede hacer en funciones independientes la suma, resta, multiplicación y división.***\n",
    "\n",
    "~~~\n",
    "def nombre_de_funcion(param1,param2, etc. ):\n",
    "    #Se especifica que hace la función o se agrega una descripción de la función entre comillas triples\n",
    "    \"\"\"Funcion que realiza una operación de tipo X y devuelve un valor Z\"\"\"\n",
    "    # Instrucciones se identa de 4 espacios\n",
    "    instruccion\n",
    "    instruccion\n",
    "    .\n",
    "    .\n",
    "    return value\n",
    "    \n",
    "~~~"
   ]
  },
  {
   "cell_type": "code",
   "execution_count": 4,
   "id": "7d56a5c7",
   "metadata": {},
   "outputs": [],
   "source": [
    "def mostrar_menu():\n",
    "    \"\"\"Funcion menu imprime el menú de opciones del banco \"\"\"\n",
    "    print (\"\\n¡Bienvenido al Banco Amigo!\")\n",
    "    print (\"Escoja una opción:\")\n",
    "    opcion = int(input(\"1. Consultar saldo\\n2. Hacer depósito\\n3. Realizar giro\\n4. Salir\\n\"))\n",
    "    \n",
    "    return opcion"
   ]
  },
  {
   "cell_type": "code",
   "execution_count": 5,
   "id": "cd3e455b",
   "metadata": {},
   "outputs": [
    {
     "name": "stdout",
     "output_type": "stream",
     "text": [
      "\n",
      "¡Bienvenido al Banco Amigo!\n",
      "Escoja una opción:\n",
      "1. Consultar saldo\n",
      "2. Hacer depósito\n",
      "3. Realizar giro\n",
      "4. Salir\n",
      "1\n"
     ]
    }
   ],
   "source": [
    "opcion = mostrar_menu()"
   ]
  },
  {
   "cell_type": "code",
   "execution_count": 6,
   "id": "a6351318",
   "metadata": {},
   "outputs": [
    {
     "name": "stdout",
     "output_type": "stream",
     "text": [
      "1\n"
     ]
    }
   ],
   "source": [
    "print (opcion)"
   ]
  },
  {
   "cell_type": "code",
   "execution_count": 7,
   "id": "cee3a626",
   "metadata": {},
   "outputs": [],
   "source": [
    "def mostrar_saldo(saldo):\n",
    "    print (\"Tu saldo es de {}\".format(saldo))"
   ]
  },
  {
   "cell_type": "code",
   "execution_count": 8,
   "id": "b15288d4",
   "metadata": {},
   "outputs": [
    {
     "name": "stdout",
     "output_type": "stream",
     "text": [
      "Tu saldo es de 100000\n"
     ]
    }
   ],
   "source": [
    "saldo = 100000\n",
    "mostrar_saldo(saldo)"
   ]
  },
  {
   "cell_type": "code",
   "execution_count": 9,
   "id": "c776df69",
   "metadata": {},
   "outputs": [
    {
     "name": "stdout",
     "output_type": "stream",
     "text": [
      "Help on function mostrar_menu in module __main__:\n",
      "\n",
      "mostrar_menu()\n",
      "    Funcion menu imprime el menú de opciones del banco\n",
      "\n"
     ]
    }
   ],
   "source": [
    "help(mostrar_menu)"
   ]
  },
  {
   "cell_type": "code",
   "execution_count": 10,
   "id": "59a1548c",
   "metadata": {},
   "outputs": [],
   "source": [
    "def incrementar_en_uno(numero):\n",
    "    \"\"\" \n",
    "    Esta función recibe cualquier numero y lo incrementa en 1. Imprime por pantalla el total de ese incremento\n",
    "    \"\"\"\n",
    "    total = numero + 1     \n",
    "    print(\"El resultado es: \", total)   "
   ]
  },
  {
   "cell_type": "code",
   "execution_count": 11,
   "id": "67424307",
   "metadata": {},
   "outputs": [
    {
     "name": "stdout",
     "output_type": "stream",
     "text": [
      "El resultado es:  21\n"
     ]
    }
   ],
   "source": [
    "incrementar_en_uno(20)"
   ]
  },
  {
   "cell_type": "code",
   "execution_count": 12,
   "id": "ff71e20b",
   "metadata": {},
   "outputs": [
    {
     "name": "stdout",
     "output_type": "stream",
     "text": [
      "El resultado es:  6.0\n"
     ]
    }
   ],
   "source": [
    "incrementar_en_uno(5.0)"
   ]
  },
  {
   "cell_type": "code",
   "execution_count": 13,
   "id": "aba3b178",
   "metadata": {},
   "outputs": [
    {
     "ename": "TypeError",
     "evalue": "can only concatenate str (not \"int\") to str",
     "output_type": "error",
     "traceback": [
      "\u001b[0;31m---------------------------------------------------------------------------\u001b[0m",
      "\u001b[0;31mTypeError\u001b[0m                                 Traceback (most recent call last)",
      "\u001b[0;32m<ipython-input-13-675726ba1109>\u001b[0m in \u001b[0;36m<module>\u001b[0;34m\u001b[0m\n\u001b[1;32m      1\u001b[0m \u001b[0;31m# la función no acepta str\u001b[0m\u001b[0;34m\u001b[0m\u001b[0;34m\u001b[0m\u001b[0;34m\u001b[0m\u001b[0m\n\u001b[0;32m----> 2\u001b[0;31m \u001b[0mincrementar_en_uno\u001b[0m\u001b[0;34m(\u001b[0m\u001b[0;34m'4'\u001b[0m\u001b[0;34m)\u001b[0m\u001b[0;34m\u001b[0m\u001b[0;34m\u001b[0m\u001b[0m\n\u001b[0m",
      "\u001b[0;32m<ipython-input-10-7aa507929776>\u001b[0m in \u001b[0;36mincrementar_en_uno\u001b[0;34m(numero)\u001b[0m\n\u001b[1;32m      3\u001b[0m     \u001b[0mEsta\u001b[0m \u001b[0mfunción\u001b[0m \u001b[0mrecibe\u001b[0m \u001b[0mcualquier\u001b[0m \u001b[0mnumero\u001b[0m \u001b[0my\u001b[0m \u001b[0mlo\u001b[0m \u001b[0mincrementa\u001b[0m \u001b[0men\u001b[0m \u001b[0;36m1.\u001b[0m \u001b[0mImprime\u001b[0m \u001b[0mpor\u001b[0m \u001b[0mpantalla\u001b[0m \u001b[0mel\u001b[0m \u001b[0mtotal\u001b[0m \u001b[0mde\u001b[0m \u001b[0mese\u001b[0m \u001b[0mincremento\u001b[0m\u001b[0;34m\u001b[0m\u001b[0;34m\u001b[0m\u001b[0m\n\u001b[1;32m      4\u001b[0m     \"\"\"\n\u001b[0;32m----> 5\u001b[0;31m     \u001b[0mtotal\u001b[0m \u001b[0;34m=\u001b[0m \u001b[0mnumero\u001b[0m \u001b[0;34m+\u001b[0m \u001b[0;36m1\u001b[0m\u001b[0;34m\u001b[0m\u001b[0;34m\u001b[0m\u001b[0m\n\u001b[0m\u001b[1;32m      6\u001b[0m     \u001b[0mprint\u001b[0m\u001b[0;34m(\u001b[0m\u001b[0;34m\"El resultado es: \"\u001b[0m\u001b[0;34m,\u001b[0m \u001b[0mtotal\u001b[0m\u001b[0;34m)\u001b[0m\u001b[0;34m\u001b[0m\u001b[0;34m\u001b[0m\u001b[0m\n",
      "\u001b[0;31mTypeError\u001b[0m: can only concatenate str (not \"int\") to str"
     ]
    }
   ],
   "source": [
    "# la función no acepta str\n",
    "incrementar_en_uno('4')"
   ]
  },
  {
   "cell_type": "code",
   "execution_count": 14,
   "id": "45b3ee41",
   "metadata": {},
   "outputs": [
    {
     "name": "stdout",
     "output_type": "stream",
     "text": [
      "Help on function incrementar_en_uno in module __main__:\n",
      "\n",
      "incrementar_en_uno(numero)\n",
      "    Esta función recibe cualquier numero y lo incrementa en 1. Imprime por pantalla el total de ese incremento\n",
      "\n"
     ]
    }
   ],
   "source": [
    "help(incrementar_en_uno)"
   ]
  },
  {
   "cell_type": "code",
   "execution_count": 15,
   "id": "18563b8c",
   "metadata": {},
   "outputs": [],
   "source": [
    "# La misma función pero en vez de imprimir, retornará el número \n",
    "def incrementar_en_uno(numero):\n",
    "    \"\"\" \n",
    "    Esta función recibe cualquier número y lo incrementa en 1. Retorna el total de ese incremento\n",
    "    \"\"\"\n",
    "    total = numero + 1    \n",
    "    return total"
   ]
  },
  {
   "cell_type": "code",
   "execution_count": 16,
   "id": "775e35cf",
   "metadata": {},
   "outputs": [
    {
     "name": "stdout",
     "output_type": "stream",
     "text": [
      "Help on function incrementar_en_uno in module __main__:\n",
      "\n",
      "incrementar_en_uno(numero)\n",
      "    Esta función recibe cualquier número y lo incrementa en 1. Retorna el total de ese incremento\n",
      "\n"
     ]
    }
   ],
   "source": [
    "help(incrementar_en_uno)"
   ]
  },
  {
   "cell_type": "code",
   "execution_count": 17,
   "id": "653efdff",
   "metadata": {},
   "outputs": [
    {
     "data": {
      "text/plain": [
       "11"
      ]
     },
     "execution_count": 17,
     "metadata": {},
     "output_type": "execute_result"
    }
   ],
   "source": [
    "# Aqui en notebooks si se ve pero en un script que se corre por consola no se verá\n",
    "incrementar_en_uno(10)"
   ]
  },
  {
   "cell_type": "code",
   "execution_count": 18,
   "id": "f6b40f9d",
   "metadata": {},
   "outputs": [
    {
     "name": "stdout",
     "output_type": "stream",
     "text": [
      "11\n"
     ]
    }
   ],
   "source": [
    "# Una forma es mostrar explixitamente el retorno\n",
    "print(incrementar_en_uno(10)) "
   ]
  },
  {
   "cell_type": "code",
   "execution_count": 19,
   "id": "81168390",
   "metadata": {},
   "outputs": [
    {
     "name": "stdout",
     "output_type": "stream",
     "text": [
      "11\n"
     ]
    }
   ],
   "source": [
    "# Otra forma de mostrar es \n",
    "incremento = incrementar_en_uno(10)\n",
    "print (incremento)"
   ]
  },
  {
   "cell_type": "markdown",
   "id": "8cb33300",
   "metadata": {},
   "source": [
    "## Función Fahrenheit to Celsius"
   ]
  },
  {
   "cell_type": "code",
   "execution_count": 20,
   "id": "f1b39c61",
   "metadata": {},
   "outputs": [],
   "source": [
    "def fahrenheit2celsius(f):\n",
    "    celsius = (f + 40) / 1.8 - 40\n",
    "    return celsius"
   ]
  },
  {
   "cell_type": "code",
   "execution_count": 21,
   "id": "13593416",
   "metadata": {},
   "outputs": [
    {
     "data": {
      "text/plain": [
       "-12.222222222222221"
      ]
     },
     "execution_count": 21,
     "metadata": {},
     "output_type": "execute_result"
    }
   ],
   "source": [
    "fahrenheit2celsius(10)"
   ]
  },
  {
   "cell_type": "code",
   "execution_count": 22,
   "id": "1d250790",
   "metadata": {},
   "outputs": [
    {
     "data": {
      "text/plain": [
       "-2.2222222222222214"
      ]
     },
     "execution_count": 22,
     "metadata": {},
     "output_type": "execute_result"
    }
   ],
   "source": [
    "#Es posible siempre realizar una operación con una función Ej:\n",
    "grados_celsius = fahrenheit2celsius(10)\n",
    "grados_celsius + 10"
   ]
  },
  {
   "cell_type": "markdown",
   "id": "90b02c02",
   "metadata": {},
   "source": [
    "## Tipos de variables\n",
    "\n",
    "Existen 4 tipos de variables en Python:\n",
    "* globales\n",
    "* locales\n",
    "* de instancia\n",
    "* de clase\n",
    "\n",
    "Las últimas dos se ocupan dentro de la creación de objetos (no serán abordadas). Nos\n",
    "enfocaremos en las variables globales y locales."
   ]
  },
  {
   "cell_type": "markdown",
   "id": "439db4d8",
   "metadata": {},
   "source": [
    "__Una variable definida dentro de una función, al ser local, no puede ser accedida fuera de ésta (solo existe en\n",
    "el scope de la función donde se definió).__"
   ]
  },
  {
   "cell_type": "code",
   "execution_count": 23,
   "id": "e056b5ce",
   "metadata": {},
   "outputs": [
    {
     "name": "stdout",
     "output_type": "stream",
     "text": [
      "False\n"
     ]
    }
   ],
   "source": [
    "#Esto seria una varibale global\n",
    "nota_aprobacion = 6\n",
    "\n",
    "def aprobado(promedio, nota_aprobacion = 4): \n",
    "    if promedio >= nota_aprobacion:\n",
    "        status = True\n",
    "    else:\n",
    "        status = False\n",
    "    return status\n",
    "\n",
    "print(aprobado(5.6, 6))\n",
    "\n"
   ]
  },
  {
   "cell_type": "code",
   "execution_count": 24,
   "id": "a9bc3b6e",
   "metadata": {},
   "outputs": [
    {
     "name": "stdout",
     "output_type": "stream",
     "text": [
      "True\n"
     ]
    }
   ],
   "source": [
    "print(aprobado(5.6))\n"
   ]
  },
  {
   "cell_type": "code",
   "execution_count": 25,
   "id": "c8a4f586",
   "metadata": {},
   "outputs": [
    {
     "name": "stdout",
     "output_type": "stream",
     "text": [
      "6\n"
     ]
    }
   ],
   "source": [
    "print(nota_aprobacion)\n"
   ]
  },
  {
   "cell_type": "code",
   "execution_count": 26,
   "id": "e43f17ad",
   "metadata": {},
   "outputs": [
    {
     "ename": "NameError",
     "evalue": "name 'status' is not defined",
     "output_type": "error",
     "traceback": [
      "\u001b[0;31m---------------------------------------------------------------------------\u001b[0m",
      "\u001b[0;31mNameError\u001b[0m                                 Traceback (most recent call last)",
      "\u001b[0;32m<ipython-input-26-b24a7a77abb6>\u001b[0m in \u001b[0;36m<module>\u001b[0;34m\u001b[0m\n\u001b[0;32m----> 1\u001b[0;31m \u001b[0mprint\u001b[0m\u001b[0;34m(\u001b[0m\u001b[0mstatus\u001b[0m\u001b[0;34m)\u001b[0m\u001b[0;34m\u001b[0m\u001b[0;34m\u001b[0m\u001b[0m\n\u001b[0m",
      "\u001b[0;31mNameError\u001b[0m: name 'status' is not defined"
     ]
    }
   ],
   "source": [
    "print(status)\n"
   ]
  },
  {
   "cell_type": "code",
   "execution_count": 27,
   "id": "2f951734",
   "metadata": {},
   "outputs": [
    {
     "name": "stdout",
     "output_type": "stream",
     "text": [
      "Help on module math:\n",
      "\n",
      "NAME\n",
      "    math\n",
      "\n",
      "MODULE REFERENCE\n",
      "    https://docs.python.org/3.8/library/math\n",
      "    \n",
      "    The following documentation is automatically generated from the Python\n",
      "    source files.  It may be incomplete, incorrect or include features that\n",
      "    are considered implementation detail and may vary between Python\n",
      "    implementations.  When in doubt, consult the module reference at the\n",
      "    location listed above.\n",
      "\n",
      "DESCRIPTION\n",
      "    This module provides access to the mathematical functions\n",
      "    defined by the C standard.\n",
      "\n",
      "FUNCTIONS\n",
      "    acos(x, /)\n",
      "        Return the arc cosine (measured in radians) of x.\n",
      "    \n",
      "    acosh(x, /)\n",
      "        Return the inverse hyperbolic cosine of x.\n",
      "    \n",
      "    asin(x, /)\n",
      "        Return the arc sine (measured in radians) of x.\n",
      "    \n",
      "    asinh(x, /)\n",
      "        Return the inverse hyperbolic sine of x.\n",
      "    \n",
      "    atan(x, /)\n",
      "        Return the arc tangent (measured in radians) of x.\n",
      "    \n",
      "    atan2(y, x, /)\n",
      "        Return the arc tangent (measured in radians) of y/x.\n",
      "        \n",
      "        Unlike atan(y/x), the signs of both x and y are considered.\n",
      "    \n",
      "    atanh(x, /)\n",
      "        Return the inverse hyperbolic tangent of x.\n",
      "    \n",
      "    ceil(x, /)\n",
      "        Return the ceiling of x as an Integral.\n",
      "        \n",
      "        This is the smallest integer >= x.\n",
      "    \n",
      "    comb(n, k, /)\n",
      "        Number of ways to choose k items from n items without repetition and without order.\n",
      "        \n",
      "        Evaluates to n! / (k! * (n - k)!) when k <= n and evaluates\n",
      "        to zero when k > n.\n",
      "        \n",
      "        Also called the binomial coefficient because it is equivalent\n",
      "        to the coefficient of k-th term in polynomial expansion of the\n",
      "        expression (1 + x)**n.\n",
      "        \n",
      "        Raises TypeError if either of the arguments are not integers.\n",
      "        Raises ValueError if either of the arguments are negative.\n",
      "    \n",
      "    copysign(x, y, /)\n",
      "        Return a float with the magnitude (absolute value) of x but the sign of y.\n",
      "        \n",
      "        On platforms that support signed zeros, copysign(1.0, -0.0)\n",
      "        returns -1.0.\n",
      "    \n",
      "    cos(x, /)\n",
      "        Return the cosine of x (measured in radians).\n",
      "    \n",
      "    cosh(x, /)\n",
      "        Return the hyperbolic cosine of x.\n",
      "    \n",
      "    degrees(x, /)\n",
      "        Convert angle x from radians to degrees.\n",
      "    \n",
      "    dist(p, q, /)\n",
      "        Return the Euclidean distance between two points p and q.\n",
      "        \n",
      "        The points should be specified as sequences (or iterables) of\n",
      "        coordinates.  Both inputs must have the same dimension.\n",
      "        \n",
      "        Roughly equivalent to:\n",
      "            sqrt(sum((px - qx) ** 2.0 for px, qx in zip(p, q)))\n",
      "    \n",
      "    erf(x, /)\n",
      "        Error function at x.\n",
      "    \n",
      "    erfc(x, /)\n",
      "        Complementary error function at x.\n",
      "    \n",
      "    exp(x, /)\n",
      "        Return e raised to the power of x.\n",
      "    \n",
      "    expm1(x, /)\n",
      "        Return exp(x)-1.\n",
      "        \n",
      "        This function avoids the loss of precision involved in the direct evaluation of exp(x)-1 for small x.\n",
      "    \n",
      "    fabs(x, /)\n",
      "        Return the absolute value of the float x.\n",
      "    \n",
      "    factorial(x, /)\n",
      "        Find x!.\n",
      "        \n",
      "        Raise a ValueError if x is negative or non-integral.\n",
      "    \n",
      "    floor(x, /)\n",
      "        Return the floor of x as an Integral.\n",
      "        \n",
      "        This is the largest integer <= x.\n",
      "    \n",
      "    fmod(x, y, /)\n",
      "        Return fmod(x, y), according to platform C.\n",
      "        \n",
      "        x % y may differ.\n",
      "    \n",
      "    frexp(x, /)\n",
      "        Return the mantissa and exponent of x, as pair (m, e).\n",
      "        \n",
      "        m is a float and e is an int, such that x = m * 2.**e.\n",
      "        If x is 0, m and e are both 0.  Else 0.5 <= abs(m) < 1.0.\n",
      "    \n",
      "    fsum(seq, /)\n",
      "        Return an accurate floating point sum of values in the iterable seq.\n",
      "        \n",
      "        Assumes IEEE-754 floating point arithmetic.\n",
      "    \n",
      "    gamma(x, /)\n",
      "        Gamma function at x.\n",
      "    \n",
      "    gcd(x, y, /)\n",
      "        greatest common divisor of x and y\n",
      "    \n",
      "    hypot(...)\n",
      "        hypot(*coordinates) -> value\n",
      "        \n",
      "        Multidimensional Euclidean distance from the origin to a point.\n",
      "        \n",
      "        Roughly equivalent to:\n",
      "            sqrt(sum(x**2 for x in coordinates))\n",
      "        \n",
      "        For a two dimensional point (x, y), gives the hypotenuse\n",
      "        using the Pythagorean theorem:  sqrt(x*x + y*y).\n",
      "        \n",
      "        For example, the hypotenuse of a 3/4/5 right triangle is:\n",
      "        \n",
      "            >>> hypot(3.0, 4.0)\n",
      "            5.0\n",
      "    \n",
      "    isclose(a, b, *, rel_tol=1e-09, abs_tol=0.0)\n",
      "        Determine whether two floating point numbers are close in value.\n",
      "        \n",
      "          rel_tol\n",
      "            maximum difference for being considered \"close\", relative to the\n",
      "            magnitude of the input values\n",
      "          abs_tol\n",
      "            maximum difference for being considered \"close\", regardless of the\n",
      "            magnitude of the input values\n",
      "        \n",
      "        Return True if a is close in value to b, and False otherwise.\n",
      "        \n",
      "        For the values to be considered close, the difference between them\n",
      "        must be smaller than at least one of the tolerances.\n",
      "        \n",
      "        -inf, inf and NaN behave similarly to the IEEE 754 Standard.  That\n",
      "        is, NaN is not close to anything, even itself.  inf and -inf are\n",
      "        only close to themselves.\n",
      "    \n",
      "    isfinite(x, /)\n",
      "        Return True if x is neither an infinity nor a NaN, and False otherwise.\n",
      "    \n",
      "    isinf(x, /)\n",
      "        Return True if x is a positive or negative infinity, and False otherwise.\n",
      "    \n",
      "    isnan(x, /)\n",
      "        Return True if x is a NaN (not a number), and False otherwise.\n",
      "    \n",
      "    isqrt(n, /)\n",
      "        Return the integer part of the square root of the input.\n",
      "    \n",
      "    ldexp(x, i, /)\n",
      "        Return x * (2**i).\n",
      "        \n",
      "        This is essentially the inverse of frexp().\n",
      "    \n",
      "    lgamma(x, /)\n",
      "        Natural logarithm of absolute value of Gamma function at x.\n",
      "    \n",
      "    log(...)\n",
      "        log(x, [base=math.e])\n",
      "        Return the logarithm of x to the given base.\n",
      "        \n",
      "        If the base not specified, returns the natural logarithm (base e) of x.\n",
      "    \n",
      "    log10(x, /)\n",
      "        Return the base 10 logarithm of x.\n",
      "    \n",
      "    log1p(x, /)\n",
      "        Return the natural logarithm of 1+x (base e).\n",
      "        \n",
      "        The result is computed in a way which is accurate for x near zero.\n",
      "    \n",
      "    log2(x, /)\n",
      "        Return the base 2 logarithm of x.\n",
      "    \n",
      "    modf(x, /)\n",
      "        Return the fractional and integer parts of x.\n",
      "        \n",
      "        Both results carry the sign of x and are floats.\n",
      "    \n",
      "    perm(n, k=None, /)\n",
      "        Number of ways to choose k items from n items without repetition and with order.\n",
      "        \n",
      "        Evaluates to n! / (n - k)! when k <= n and evaluates\n",
      "        to zero when k > n.\n",
      "        \n",
      "        If k is not specified or is None, then k defaults to n\n",
      "        and the function returns n!.\n",
      "        \n",
      "        Raises TypeError if either of the arguments are not integers.\n",
      "        Raises ValueError if either of the arguments are negative.\n",
      "    \n",
      "    pow(x, y, /)\n",
      "        Return x**y (x to the power of y).\n",
      "    \n",
      "    prod(iterable, /, *, start=1)\n",
      "        Calculate the product of all the elements in the input iterable.\n",
      "        \n",
      "        The default start value for the product is 1.\n",
      "        \n",
      "        When the iterable is empty, return the start value.  This function is\n",
      "        intended specifically for use with numeric values and may reject\n",
      "        non-numeric types.\n",
      "    \n",
      "    radians(x, /)\n",
      "        Convert angle x from degrees to radians.\n",
      "    \n",
      "    remainder(x, y, /)\n",
      "        Difference between x and the closest integer multiple of y.\n",
      "        \n",
      "        Return x - n*y where n*y is the closest integer multiple of y.\n",
      "        In the case where x is exactly halfway between two multiples of\n",
      "        y, the nearest even value of n is used. The result is always exact.\n",
      "    \n",
      "    sin(x, /)\n",
      "        Return the sine of x (measured in radians).\n",
      "    \n",
      "    sinh(x, /)\n",
      "        Return the hyperbolic sine of x.\n",
      "    \n",
      "    sqrt(x, /)\n",
      "        Return the square root of x.\n",
      "    \n",
      "    tan(x, /)\n",
      "        Return the tangent of x (measured in radians).\n",
      "    \n",
      "    tanh(x, /)\n",
      "        Return the hyperbolic tangent of x.\n",
      "    \n",
      "    trunc(x, /)\n",
      "        Truncates the Real x to the nearest Integral toward 0.\n",
      "        \n",
      "        Uses the __trunc__ magic method.\n",
      "\n",
      "DATA\n",
      "    e = 2.718281828459045\n",
      "    inf = inf\n",
      "    nan = nan\n",
      "    pi = 3.141592653589793\n",
      "    tau = 6.283185307179586\n",
      "\n",
      "FILE\n",
      "    /opt/miniconda3/lib/python3.8/lib-dynload/math.cpython-38-darwin.so\n",
      "\n",
      "\n"
     ]
    }
   ],
   "source": [
    "import math\n",
    "help(math)\n"
   ]
  },
  {
   "cell_type": "code",
   "execution_count": 28,
   "id": "8f86e012",
   "metadata": {},
   "outputs": [
    {
     "name": "stdout",
     "output_type": "stream",
     "text": [
      "Help on built-in function sqrt in module math:\n",
      "\n",
      "sqrt(x, /)\n",
      "    Return the square root of x.\n",
      "\n"
     ]
    }
   ],
   "source": [
    "help(math.sqrt)"
   ]
  },
  {
   "cell_type": "markdown",
   "id": "f9ed03df",
   "metadata": {},
   "source": [
    "## Secuencia Fibonacci en Python\n",
    "\n",
    "La secuencia de Fibonacci es una serie común y de uso frecuente en matemáticas. Se muestra a continuación.\n",
    "~~~\n",
    "0,1,1,2,3,5,8,13,21,34,55,89,144,233....\n",
    "~~~\n",
    "\n",
    "Fibonacci es la suma de los dos números anteriores y se puede mostrar matemáticamente como ```Fn = Fn-1 + Fn-2```\n",
    "El primer y segundo elementos de la serie son 0 y 1, respectivamente.\n"
   ]
  },
  {
   "cell_type": "code",
   "execution_count": 29,
   "id": "ed7cfeaa",
   "metadata": {},
   "outputs": [],
   "source": [
    "def fib(n):\n",
    "     a, b = 0, 1\n",
    "    #Va a imprimir los valores arrojados por la variable a \n",
    "    #en repetidas veces mientras la condición sea a < n, es decir verdadero \n",
    "     while a < n:\n",
    "         # linea que imprime los valores de la sucesión de Fibonacci.\n",
    "         print(a, end=' ')\n",
    "         #Los valores de a y b son obtenidos utilizando la asignación paralela\n",
    "         a, b = b, a+b\n",
    "     print()\n",
    "    "
   ]
  },
  {
   "cell_type": "code",
   "execution_count": 30,
   "id": "b5849ba0",
   "metadata": {},
   "outputs": [
    {
     "name": "stdout",
     "output_type": "stream",
     "text": [
      "0 1 1 2 3 5 8 13 21 34 55 89 \n"
     ]
    }
   ],
   "source": [
    "fib(90)"
   ]
  },
  {
   "cell_type": "markdown",
   "id": "1d81b7ca",
   "metadata": {},
   "source": [
    "# Numpy"
   ]
  },
  {
   "cell_type": "markdown",
   "id": "debddae0",
   "metadata": {},
   "source": [
    " ```numpy``` es la biblioteca principal para la computación científica en Python. Es usado en casi todos los cálculos numéricos. Es un paquete que provee a Python de estructuras de datos vectoriales, matriciales, y de rango mayor, de alto rendimiento. Está implementado en C y Fortran, de modo que cuando los cálculos son vectorizados (formulados con vectores y matrices), el rendimiento es muy bueno.\n",
    " \n",
    "***[Documentacion de NumPy](https://numpy.org/doc/stable/index.html)*** \n",
    "\n",
    "```numpy``` se importa de la siguiente manera "
   ]
  },
  {
   "cell_type": "code",
   "execution_count": 31,
   "id": "36d0ef1a",
   "metadata": {},
   "outputs": [],
   "source": [
    "import numpy as np"
   ]
  },
  {
   "cell_type": "markdown",
   "id": "262f3e4d",
   "metadata": {},
   "source": [
    "Existen varias formas para inicializar nuevos arreglos de numpy, por ejemplo desde\n",
    "\n",
    "- Listas o tuplas Python\n",
    "- Usando funciones dedicadas a generar arreglos numpy, como arange, linspace, etc.\n",
    "- Leyendo datos desde archivos\n",
    "\n",
    "***Los arreglos Numpy son de tipo estático y homogéneo. El tipo de elementos es determinado cuando se crea el arreglo.***\n",
    "\n",
    "# Desde lista\n",
    "\n",
    "###  ```numpy.array``` --> ```np.array```\n"
   ]
  },
  {
   "cell_type": "code",
   "execution_count": 32,
   "id": "bdc730c9",
   "metadata": {},
   "outputs": [
    {
     "data": {
      "text/plain": [
       "array([1, 2, 3, 4])"
      ]
     },
     "execution_count": 32,
     "metadata": {},
     "output_type": "execute_result"
    }
   ],
   "source": [
    "# un vector: el argumento de la función array es una lista de Python\n",
    "v = np.array([1,2,3,4])\n",
    "v"
   ]
  },
  {
   "cell_type": "code",
   "execution_count": 33,
   "id": "8dc6947f",
   "metadata": {},
   "outputs": [
    {
     "data": {
      "text/plain": [
       "array([[1, 2],\n",
       "       [3, 4]])"
      ]
     },
     "execution_count": 33,
     "metadata": {},
     "output_type": "execute_result"
    }
   ],
   "source": [
    "# una matriz: el argumento de la función array es una lista anidada de Python\n",
    "M = np.array([[1, 2], [3, 4]])\n",
    "M"
   ]
  },
  {
   "cell_type": "markdown",
   "id": "2e10236c",
   "metadata": {},
   "source": [
    "Los objetos ```v``` y ```M``` son ambos de tipo ndarray que provee el módulo numpy. \n"
   ]
  },
  {
   "cell_type": "code",
   "execution_count": 34,
   "id": "5f29565b",
   "metadata": {},
   "outputs": [
    {
     "data": {
      "text/plain": [
       "numpy.ndarray"
      ]
     },
     "execution_count": 34,
     "metadata": {},
     "output_type": "execute_result"
    }
   ],
   "source": [
    "type(v)"
   ]
  },
  {
   "cell_type": "code",
   "execution_count": 35,
   "id": "ec2a6caa",
   "metadata": {},
   "outputs": [
    {
     "data": {
      "text/plain": [
       "numpy.ndarray"
      ]
     },
     "execution_count": 35,
     "metadata": {},
     "output_type": "execute_result"
    }
   ],
   "source": [
    "type(M)"
   ]
  },
  {
   "cell_type": "code",
   "execution_count": 36,
   "id": "9535ae21",
   "metadata": {},
   "outputs": [
    {
     "data": {
      "text/plain": [
       "(numpy.ndarray, numpy.ndarray)"
      ]
     },
     "execution_count": 36,
     "metadata": {},
     "output_type": "execute_result"
    }
   ],
   "source": [
    "type(v), type(M)"
   ]
  },
  {
   "cell_type": "markdown",
   "id": "a31e5fa9",
   "metadata": {},
   "source": [
    "Estos arreglos se diferencian sólo por su forma y esto se puede ver facilmente usando ```ndarray.shape``` o ```np.shape(ndarray)```"
   ]
  },
  {
   "cell_type": "code",
   "execution_count": 37,
   "id": "024b7fa0",
   "metadata": {},
   "outputs": [
    {
     "data": {
      "text/plain": [
       "(4,)"
      ]
     },
     "execution_count": 37,
     "metadata": {},
     "output_type": "execute_result"
    }
   ],
   "source": [
    "v.shape"
   ]
  },
  {
   "cell_type": "code",
   "execution_count": 38,
   "id": "dd56e9ef",
   "metadata": {},
   "outputs": [
    {
     "data": {
      "text/plain": [
       "(4,)"
      ]
     },
     "execution_count": 38,
     "metadata": {},
     "output_type": "execute_result"
    }
   ],
   "source": [
    "np.shape(v)"
   ]
  },
  {
   "cell_type": "code",
   "execution_count": 39,
   "id": "f9c3dc4e",
   "metadata": {},
   "outputs": [
    {
     "data": {
      "text/plain": [
       "(2, 2)"
      ]
     },
     "execution_count": 39,
     "metadata": {},
     "output_type": "execute_result"
    }
   ],
   "source": [
    "M.shape"
   ]
  },
  {
   "cell_type": "code",
   "execution_count": 40,
   "id": "a51352d9",
   "metadata": {},
   "outputs": [
    {
     "data": {
      "text/plain": [
       "(2, 2)"
      ]
     },
     "execution_count": 40,
     "metadata": {},
     "output_type": "execute_result"
    }
   ],
   "source": [
    "np.shape(M)"
   ]
  },
  {
   "cell_type": "markdown",
   "id": "3e1972e2",
   "metadata": {},
   "source": [
    "El número de elementos de un arreglo puede obtiene con ```ndarray.size``` o ```np.size(ndarray)```"
   ]
  },
  {
   "cell_type": "code",
   "execution_count": 41,
   "id": "caf8f811",
   "metadata": {},
   "outputs": [
    {
     "data": {
      "text/plain": [
       "4"
      ]
     },
     "execution_count": 41,
     "metadata": {},
     "output_type": "execute_result"
    }
   ],
   "source": [
    "v.size "
   ]
  },
  {
   "cell_type": "code",
   "execution_count": 42,
   "id": "edb4d90e",
   "metadata": {},
   "outputs": [
    {
     "data": {
      "text/plain": [
       "4"
      ]
     },
     "execution_count": 42,
     "metadata": {},
     "output_type": "execute_result"
    }
   ],
   "source": [
    "np.size(v)"
   ]
  },
  {
   "cell_type": "code",
   "execution_count": 43,
   "id": "70b617b2",
   "metadata": {},
   "outputs": [
    {
     "data": {
      "text/plain": [
       "4"
      ]
     },
     "execution_count": 43,
     "metadata": {},
     "output_type": "execute_result"
    }
   ],
   "source": [
    "M.size\n"
   ]
  },
  {
   "cell_type": "code",
   "execution_count": 44,
   "id": "6db6a20c",
   "metadata": {},
   "outputs": [
    {
     "data": {
      "text/plain": [
       "4"
      ]
     },
     "execution_count": 44,
     "metadata": {},
     "output_type": "execute_result"
    }
   ],
   "source": [
    "np.size(M)"
   ]
  },
  {
   "cell_type": "markdown",
   "id": "83c7ed29",
   "metadata": {},
   "source": [
    "#### Para saber que tipo de dato contiene el arreglo se puede usar ```dtype```"
   ]
  },
  {
   "cell_type": "code",
   "execution_count": 45,
   "id": "c8f71d7d",
   "metadata": {},
   "outputs": [
    {
     "data": {
      "text/plain": [
       "dtype('int64')"
      ]
     },
     "execution_count": 45,
     "metadata": {},
     "output_type": "execute_result"
    }
   ],
   "source": [
    "M.dtype"
   ]
  },
  {
   "cell_type": "markdown",
   "id": "15ed7ed0",
   "metadata": {},
   "source": [
    "##### Algunos tipos comunes que pueden ser usados con dtype son: \n",
    "```int, float, complex, bool, object```"
   ]
  },
  {
   "cell_type": "markdown",
   "id": "a192e4fb",
   "metadata": {},
   "source": [
    "## Generar arraglos usando funciones"
   ]
  },
  {
   "cell_type": "code",
   "execution_count": 46,
   "id": "aeebf09b",
   "metadata": {},
   "outputs": [],
   "source": [
    "# crea un arreglo con valores en un rango. Fijarse que el 20 no está incluido\n",
    "\n",
    "x = np.arange(0, 20, 2) # argumentos: desde, hasta, paso"
   ]
  },
  {
   "cell_type": "code",
   "execution_count": 47,
   "id": "ab0afafa",
   "metadata": {},
   "outputs": [
    {
     "data": {
      "text/plain": [
       "array([ 0,  2,  4,  6,  8, 10, 12, 14, 16, 18])"
      ]
     },
     "execution_count": 47,
     "metadata": {},
     "output_type": "execute_result"
    }
   ],
   "source": [
    "x"
   ]
  },
  {
   "cell_type": "code",
   "execution_count": 48,
   "id": "db565de1",
   "metadata": {},
   "outputs": [],
   "source": [
    "# Se incluye -1 pero no el 1 en el arreglo\n",
    "a = np.arange(-1, 1, 0.1)"
   ]
  },
  {
   "cell_type": "code",
   "execution_count": 49,
   "id": "485b5b7f",
   "metadata": {},
   "outputs": [
    {
     "data": {
      "text/plain": [
       "array([-1.00000000e+00, -9.00000000e-01, -8.00000000e-01, -7.00000000e-01,\n",
       "       -6.00000000e-01, -5.00000000e-01, -4.00000000e-01, -3.00000000e-01,\n",
       "       -2.00000000e-01, -1.00000000e-01, -2.22044605e-16,  1.00000000e-01,\n",
       "        2.00000000e-01,  3.00000000e-01,  4.00000000e-01,  5.00000000e-01,\n",
       "        6.00000000e-01,  7.00000000e-01,  8.00000000e-01,  9.00000000e-01])"
      ]
     },
     "execution_count": 49,
     "metadata": {},
     "output_type": "execute_result"
    }
   ],
   "source": [
    "a"
   ]
  },
  {
   "cell_type": "markdown",
   "id": "d3fd7dc2",
   "metadata": {},
   "source": [
    "### Usando ```linspace```  \n",
    "    Formato: (desde, hasta, número de elementos)\n",
    "    numpy.linspace(valor_inicial, valor_final, número_de_valores)"
   ]
  },
  {
   "cell_type": "code",
   "execution_count": 50,
   "id": "8a18447d",
   "metadata": {},
   "outputs": [
    {
     "data": {
      "text/plain": [
       "array([ 0.        ,  0.41666667,  0.83333333,  1.25      ,  1.66666667,\n",
       "        2.08333333,  2.5       ,  2.91666667,  3.33333333,  3.75      ,\n",
       "        4.16666667,  4.58333333,  5.        ,  5.41666667,  5.83333333,\n",
       "        6.25      ,  6.66666667,  7.08333333,  7.5       ,  7.91666667,\n",
       "        8.33333333,  8.75      ,  9.16666667,  9.58333333, 10.        ])"
      ]
     },
     "execution_count": 50,
     "metadata": {},
     "output_type": "execute_result"
    }
   ],
   "source": [
    "#Ambos puntos finales SON incluidos.\n",
    "np.linspace(0, 10, 25)"
   ]
  },
  {
   "cell_type": "code",
   "execution_count": 51,
   "id": "fddf3f49",
   "metadata": {},
   "outputs": [
    {
     "name": "stdout",
     "output_type": "stream",
     "text": [
      "float64\n",
      "(25,)\n"
     ]
    }
   ],
   "source": [
    "a = np.linspace(0, 10, 25)\n",
    "print(a.dtype)\n",
    "print(a.shape)"
   ]
  },
  {
   "cell_type": "markdown",
   "id": "d607d1ad",
   "metadata": {},
   "source": [
    "## Usando matplotlib y linspace para graficar"
   ]
  },
  {
   "cell_type": "code",
   "execution_count": 52,
   "id": "6722a4f8",
   "metadata": {},
   "outputs": [
    {
     "name": "stdout",
     "output_type": "stream",
     "text": [
      "x =  [0.         0.55555556 1.11111111 1.66666667 2.22222222 2.77777778\n",
      " 3.33333333 3.88888889 4.44444444 5.        ]\n",
      "y =  [ 0.          0.52741539  0.8961922   0.99540796  0.79522006  0.35584199\n",
      " -0.19056796 -0.67965796 -0.96431712 -0.95892427]\n"
     ]
    }
   ],
   "source": [
    "import numpy as np\n",
    "import matplotlib.pyplot as plt\n",
    "\n",
    "# 10 numeros del 0 5 (incluye al 0 y al 5)\n",
    "test = np.linspace( 0, 5, 10 )                 \n",
    "print(\"x = \", test)\n",
    "y = np.sin(test)\n",
    "print(\"y = \", y)\n"
   ]
  },
  {
   "cell_type": "code",
   "execution_count": 53,
   "id": "9564df37",
   "metadata": {},
   "outputs": [
    {
     "data": {
      "image/png": "[encoded data removed]",
      "text/plain": [
       "<Figure size 432x288 with 1 Axes>"
      ]
     },
     "metadata": {
      "needs_background": "light"
     },
     "output_type": "display_data"
    }
   ],
   "source": [
    "\n",
    "plt.plot(test,y)\n",
    "plt.show()"
   ]
  },
  {
   "cell_type": "code",
   "execution_count": 54,
   "id": "bcaa6733",
   "metadata": {},
   "outputs": [
    {
     "name": "stdout",
     "output_type": "stream",
     "text": [
      "x =  [0.         0.6981317  1.3962634  2.0943951  2.7925268  3.4906585\n",
      " 4.1887902  4.88692191 5.58505361 6.28318531]\n",
      "y =  [ 0.00000000e+00  6.42787610e-01  9.84807753e-01  8.66025404e-01\n",
      "  3.42020143e-01 -3.42020143e-01 -8.66025404e-01 -9.84807753e-01\n",
      " -6.42787610e-01 -2.44929360e-16]\n"
     ]
    },
    {
     "data": {
      "image/png": "[encoded data removed]",
      "text/plain": [
       "<Figure size 432x288 with 1 Axes>"
      ]
     },
     "metadata": {
      "needs_background": "light"
     },
     "output_type": "display_data"
    }
   ],
   "source": [
    "x = np.linspace( 0, 2*np.pi, 10)\n",
    "y = np.sin(x)\n",
    "print(\"x = \", x)\n",
    "print(\"y = \", y)\n",
    "\n",
    "\n",
    "plt.plot(x,y)\n",
    "plt.show()"
   ]
  },
  {
   "cell_type": "code",
   "execution_count": 55,
   "id": "70e3ba82",
   "metadata": {},
   "outputs": [
    {
     "name": "stdout",
     "output_type": "stream",
     "text": [
      "x =  [  0.          11.11111111  22.22222222  33.33333333  44.44444444\n",
      "  55.55555556  66.66666667  77.77777778  88.88888889 100.        ]\n",
      "y =  [ 1.          0.11527995 -0.97342107 -0.33971181  0.89509715  0.54608532\n",
      " -0.76919177 -0.7234301   0.6023978   0.86231887]\n"
     ]
    },
    {
     "data": {
      "image/png": "[encoded data removed]",
      "text/plain": [
       "<Figure size 432x288 with 1 Axes>"
      ]
     },
     "metadata": {
      "needs_background": "light"
     },
     "output_type": "display_data"
    }
   ],
   "source": [
    "x = np.linspace( 0, 100, 10)\n",
    "y = np.cos(x)\n",
    "print(\"x = \", x)\n",
    "print(\"y = \", y)\n",
    "\n",
    "\n",
    "plt.plot(x,y)\n",
    "plt.show()"
   ]
  },
  {
   "cell_type": "markdown",
   "id": "ee072687",
   "metadata": {},
   "source": [
    "### Usando ```logspace```\n",
    "\n",
    "De forma semejante, la función numpy.logspace genera un array Numpy formado también por n números entre dos dados, pero en una escala logarítmica. Por ejemplo:"
   ]
  },
  {
   "cell_type": "code",
   "execution_count": 56,
   "id": "28b6c3ee",
   "metadata": {},
   "outputs": [
    {
     "data": {
      "text/plain": [
       "array([   2.,    4.,    8.,   16.,   32.,   64.,  128.,  256.,  512.,\n",
       "       1024.])"
      ]
     },
     "execution_count": 56,
     "metadata": {},
     "output_type": "execute_result"
    }
   ],
   "source": [
    "#Por defecto base=10\n",
    "m = np.logspace(1, 10, 10, base=2)\n",
    "m"
   ]
  },
  {
   "cell_type": "markdown",
   "id": "a315903d",
   "metadata": {},
   "source": [
    "### Creando una metriz a partir de listas"
   ]
  },
  {
   "cell_type": "code",
   "execution_count": 57,
   "id": "adaedadc",
   "metadata": {},
   "outputs": [
    {
     "name": "stdout",
     "output_type": "stream",
     "text": [
      "- Matriz creada con una lista de listas:\n",
      "[[ 1.  -4. ]\n",
      " [12.   3. ]\n",
      " [ 7.2  5. ]]\n"
     ]
    }
   ],
   "source": [
    "print(\"- Matriz creada con una lista de listas:\")\n",
    "lista_de_listas=[ [1  ,-4], \n",
    "                  [12 , 3], \n",
    "                  [7.2, 5]]\n",
    "matriz = np.array(lista_de_listas)\n",
    "print(matriz)"
   ]
  },
  {
   "cell_type": "markdown",
   "id": "0411e8df",
   "metadata": {},
   "source": [
    "### Crear una matriz de ceros ```np.zeros(dimensiones)```"
   ]
  },
  {
   "cell_type": "code",
   "execution_count": 58,
   "id": "c10bcda7",
   "metadata": {},
   "outputs": [
    {
     "name": "stdout",
     "output_type": "stream",
     "text": [
      "- Matriz creada con np.zeros:\n",
      "[[0. 0. 0. 0. 0.]\n",
      " [0. 0. 0. 0. 0.]\n",
      " [0. 0. 0. 0. 0.]\n",
      " [0. 0. 0. 0. 0.]\n",
      " [0. 0. 0. 0. 0.]]\n"
     ]
    }
   ],
   "source": [
    "print(\"- Matriz creada con np.zeros:\")\n",
    "dimensiones=(5,5)\n",
    "matriz_ceros = np.zeros(dimensiones)\n",
    "print(matriz_ceros)"
   ]
  },
  {
   "cell_type": "markdown",
   "id": "e06d4a63",
   "metadata": {},
   "source": [
    "### Crear una matriz de unos  ```np.ones(dimensiones)```"
   ]
  },
  {
   "cell_type": "code",
   "execution_count": 59,
   "id": "b29a234b",
   "metadata": {},
   "outputs": [
    {
     "name": "stdout",
     "output_type": "stream",
     "text": [
      "- Matriz creada con np.ones:\n",
      "[[1. 1. 1. 1. 1. 1. 1. 1.]\n",
      " [1. 1. 1. 1. 1. 1. 1. 1.]\n",
      " [1. 1. 1. 1. 1. 1. 1. 1.]\n",
      " [1. 1. 1. 1. 1. 1. 1. 1.]\n",
      " [1. 1. 1. 1. 1. 1. 1. 1.]]\n"
     ]
    }
   ],
   "source": [
    "\n",
    "print(\"- Matriz creada con np.ones:\")\n",
    "dimensiones=(5,8)\n",
    "matriz_unos = np.ones(dimensiones)\n",
    "print(matriz_unos)"
   ]
  },
  {
   "cell_type": "code",
   "execution_count": 60,
   "id": "19778115",
   "metadata": {},
   "outputs": [
    {
     "name": "stdout",
     "output_type": "stream",
     "text": [
      "Copia de la matriz creada con np.ones:\n",
      "[[1. 1. 1. 1. 1. 1. 1. 1.]\n",
      " [1. 1. 1. 1. 1. 1. 1. 1.]\n",
      " [1. 1. 1. 1. 1. 1. 1. 1.]\n",
      " [1. 1. 1. 1. 1. 1. 1. 1.]\n",
      " [1. 1. 1. 1. 1. 1. 1. 1.]]\n"
     ]
    }
   ],
   "source": [
    "#también podemos usar np.copy para copiar una matriz \n",
    "print(\"Copia de la matriz creada con np.ones:\")\n",
    "matriz_unos_copia=np.copy(matriz_unos)\n",
    "print(matriz_unos_copia)\n"
   ]
  },
  {
   "cell_type": "markdown",
   "id": "c3ce3257",
   "metadata": {},
   "source": [
    "### Acceder a las matrices"
   ]
  },
  {
   "cell_type": "code",
   "execution_count": 61,
   "id": "e6fd7e20",
   "metadata": {},
   "outputs": [
    {
     "name": "stdout",
     "output_type": "stream",
     "text": [
      "Elementos individuales\n",
      "-4.0\n",
      "5.0\n"
     ]
    }
   ],
   "source": [
    "lista_de_listas=[ [1  ,-4, 5, 6], \n",
    "                  [12 , 3, 4, 33], \n",
    "                  [7.2, 5, 3.3, 60]]\n",
    "a = np.array(lista_de_listas)\n",
    "\n",
    "print(\"Elementos individuales\")\n",
    "print(a[0,1])\n",
    "print(a[2,1])\n",
    "\n"
   ]
  },
  {
   "cell_type": "code",
   "execution_count": 62,
   "id": "19ab5f97",
   "metadata": {},
   "outputs": [
    {
     "name": "stdout",
     "output_type": "stream",
     "text": [
      "Vector de elementos de la fila 0\n",
      "[ 1. -4.  5.  6.]\n"
     ]
    }
   ],
   "source": [
    "print(\"Vector de elementos de la fila 0\")\n",
    "print(a[0,:])\n",
    "\n"
   ]
  },
  {
   "cell_type": "code",
   "execution_count": 63,
   "id": "afd11f59",
   "metadata": {},
   "outputs": [
    {
     "name": "stdout",
     "output_type": "stream",
     "text": [
      "Vector de elementos de la fila 1\n",
      "[12.  3.  4. 33.]\n"
     ]
    }
   ],
   "source": [
    "print(\"Vector de elementos de la fila 1\")\n",
    "print(a[1,:])"
   ]
  },
  {
   "cell_type": "code",
   "execution_count": 64,
   "id": "2781affa",
   "metadata": {},
   "outputs": [
    {
     "name": "stdout",
     "output_type": "stream",
     "text": [
      "Vector de elementos de la fila 2\n",
      "[ 7.2  5.   3.3 60. ]\n"
     ]
    }
   ],
   "source": [
    "print(\"Vector de elementos de la fila 2\")\n",
    "print(a[2,:])"
   ]
  },
  {
   "cell_type": "code",
   "execution_count": 65,
   "id": "a995277a",
   "metadata": {},
   "outputs": [
    {
     "name": "stdout",
     "output_type": "stream",
     "text": [
      "Submatriz de 2x2 con las primeras dos filas\n",
      "[[ 1. -4.  5.  6.]\n",
      " [12.  3.  4. 33.]]\n"
     ]
    }
   ],
   "source": [
    "print(\"Submatriz de 2x2 con las primeras dos filas\")\n",
    "print(a[0:2,:])"
   ]
  },
  {
   "cell_type": "code",
   "execution_count": 66,
   "id": "ced66db3",
   "metadata": {},
   "outputs": [
    {
     "name": "stdout",
     "output_type": "stream",
     "text": [
      "Submatriz de 2x2 con las ultimas dos filas\n",
      "[[12.   3.   4.  33. ]\n",
      " [ 7.2  5.   3.3 60. ]]\n"
     ]
    }
   ],
   "source": [
    "print(\"Submatriz de 2x2 con las ultimas dos filas\")\n",
    "print(a[1:3,:])\n"
   ]
  },
  {
   "cell_type": "markdown",
   "id": "9e46319a",
   "metadata": {},
   "source": [
    "### Modificando matrices"
   ]
  },
  {
   "cell_type": "code",
   "execution_count": 67,
   "id": "c9f86453",
   "metadata": {},
   "outputs": [
    {
     "name": "stdout",
     "output_type": "stream",
     "text": [
      "Matriz original:\n",
      "[[  1. -40.]\n",
      " [ 12.  30.]\n",
      " [  7.   5.]]\n",
      "Le asignamos el valor 4 a los elementos de la columna 0:\n",
      "[[  4. -40.]\n",
      " [  4.  30.]\n",
      " [  4.   5.]]\n"
     ]
    }
   ],
   "source": [
    "lista_de_listas=[ [1,-40], \n",
    "                  [12,30], \n",
    "                  [7, 5.0]]\n",
    "a = np.array(lista_de_listas)\n",
    "\n",
    "print(\"Matriz original:\")\n",
    "print(a)\n",
    "\n",
    "print(\"Le asignamos el valor 4 a los elementos de la columna 0:\")\n",
    "a[:,0]=4\n",
    "print(a)"
   ]
  },
  {
   "cell_type": "code",
   "execution_count": 68,
   "id": "754bff05",
   "metadata": {},
   "outputs": [
    {
     "name": "stdout",
     "output_type": "stream",
     "text": [
      "Matriz original:\n",
      "[[  4. -40.]\n",
      " [  4.  30.]\n",
      " [  4.   5.]]\n",
      "Dividimos por 2 la columna 1:\n",
      "[[  4.  -20. ]\n",
      " [  4.   15. ]\n",
      " [  4.    2.5]]\n"
     ]
    }
   ],
   "source": [
    "print(\"Matriz original:\")\n",
    "print(a)\n",
    "print(\"Dividimos por 2 la columna 1:\")\n",
    "a[:,1]=a[:,1]/2.0\n",
    "print(a)"
   ]
  },
  {
   "cell_type": "code",
   "execution_count": 69,
   "id": "b04d248b",
   "metadata": {},
   "outputs": [
    {
     "name": "stdout",
     "output_type": "stream",
     "text": [
      "Matriz original:\n",
      "[[  4.  -20. ]\n",
      " [  4.   15. ]\n",
      " [  4.    2.5]]\n",
      "Le sumamos 1 a toda la matriz:\n",
      "[[  5.  -19. ]\n",
      " [  5.   16. ]\n",
      " [  5.    3.5]]\n"
     ]
    }
   ],
   "source": [
    "print(\"Matriz original:\")\n",
    "print(a)\n",
    "print(\"Le sumamos 1 a toda la matriz:\")\n",
    "a=a+1\n",
    "print(a)"
   ]
  },
  {
   "cell_type": "markdown",
   "id": "b7e1bdbe",
   "metadata": {},
   "source": [
    "## eye : Crea una matriz identidad del tamaño indicado en el argumento."
   ]
  },
  {
   "cell_type": "code",
   "execution_count": 70,
   "id": "a0bcf48b",
   "metadata": {},
   "outputs": [
    {
     "data": {
      "text/plain": [
       "array([[1., 0., 0., 0.],\n",
       "       [0., 1., 0., 0.],\n",
       "       [0., 0., 1., 0.],\n",
       "       [0., 0., 0., 1.]])"
      ]
     },
     "execution_count": 70,
     "metadata": {},
     "output_type": "execute_result"
    }
   ],
   "source": [
    "np.eye(4)"
   ]
  },
  {
   "cell_type": "markdown",
   "id": "3699de9f",
   "metadata": {},
   "source": [
    "### random.rand() : Crea una matriz aleatoria de 3x3 con valores entre 0 y 1\n"
   ]
  },
  {
   "cell_type": "code",
   "execution_count": 71,
   "id": "b94ea42b",
   "metadata": {},
   "outputs": [
    {
     "name": "stdout",
     "output_type": "stream",
     "text": [
      "[[0.55602904 0.08744191 0.4206487  0.0782709 ]\n",
      " [0.8622105  0.78445772 0.19427042 0.39267967]\n",
      " [0.519711   0.22470032 0.52488187 0.58000912]]\n"
     ]
    }
   ],
   "source": [
    "matriz_aleatoria=np.random.rand(3,4)\n",
    "print(matriz_aleatoria)"
   ]
  },
  {
   "cell_type": "markdown",
   "id": "ed94bbb8",
   "metadata": {},
   "source": [
    "### Rand(): Retorna un arreglo con una muestra de números aleatorios con una distribución normal (centrada en 0), a diferencia de rand cuya distribución es uniforme:"
   ]
  },
  {
   "cell_type": "code",
   "execution_count": 72,
   "id": "8f7b6365",
   "metadata": {},
   "outputs": [
    {
     "data": {
      "text/plain": [
       "array([ 0.04020387,  0.11122605, -0.27316028,  1.33499832, -0.75418855])"
      ]
     },
     "execution_count": 72,
     "metadata": {},
     "output_type": "execute_result"
    }
   ],
   "source": [
    "np.random.randn(5)"
   ]
  },
  {
   "cell_type": "code",
   "execution_count": 73,
   "id": "f2168e2f",
   "metadata": {},
   "outputs": [
    {
     "data": {
      "text/plain": [
       "array([[-1.71999636, -0.28460079,  1.30048376, -1.74068094, -0.3750504 ],\n",
       "       [-1.00837323,  0.56852073,  0.22666599, -1.41041252,  1.10689294],\n",
       "       [-0.13181163, -0.41296277, -1.24335635,  0.99009266,  1.49058216],\n",
       "       [ 1.82046077, -1.14322611,  0.43963684,  0.87245977, -1.55362509]])"
      ]
     },
     "execution_count": 73,
     "metadata": {},
     "output_type": "execute_result"
    }
   ],
   "source": [
    "np.random.randn(4,5)"
   ]
  },
  {
   "cell_type": "markdown",
   "id": "524d4839",
   "metadata": {},
   "source": [
    "# Otras biblootecas de utilidad para el cálculo o análisis científico\n",
    "## Visualización con Matplotlib\n",
    "Es una biblioteca de gráficos 2D y 3D para generar imágenes científicas. \n",
    "Puedes ver mas información en http://matplotlib.org/"
   ]
  },
  {
   "cell_type": "code",
   "execution_count": 74,
   "id": "4eb9ebe9",
   "metadata": {},
   "outputs": [
    {
     "data": {
      "image/png": "[encoded data removed]",
      "text/plain": [
       "<Figure size 432x288 with 1 Axes>"
      ]
     },
     "metadata": {
      "needs_background": "light"
     },
     "output_type": "display_data"
    }
   ],
   "source": [
    "# Importando los paquetes necesarios\n",
    "import matplotlib.pyplot as plt\n",
    "import numpy as np\n",
    "\n",
    "# Preparando los datos . Recordar lindspace --> (desde, hasta, número de elementos)\n",
    "x = np.linspace(0, 10, 100)\n",
    "\n",
    "# Graficar\n",
    "plt.plot(x, x, label='linear')\n",
    "\n",
    "# Agregar leyenda\n",
    "plt.legend()\n",
    "\n",
    "# Mostrar el gráfico\n",
    "plt.show()\n",
    "\n"
   ]
  },
  {
   "cell_type": "markdown",
   "id": "b5cbdbd2",
   "metadata": {},
   "source": [
    "### Más adelante vamos a tener una clase de visualización y además se enviará material de apoyo"
   ]
  },
  {
   "cell_type": "markdown",
   "id": "a213653b",
   "metadata": {},
   "source": [
    "## Visualizacion con Seaborn\n",
    "\n",
    "Seaborn incluye un interesante conjunto de datasets que pueden ser utilizados para probar las distintas visualizaciones. La función disponible para la carga de estos conjuntos de datos es seaborn.load_dataset, devolviendo un dataframe pandas. \n",
    "\n",
    "***Datos \"Tips\"*** = En este conjunto de datos hay información sobre propinas dejadas en un restaurante, con información sobre el día en el que se produjo, si fue en el almuerzo o la cena, el número de comensales, el sexo de la persona que dejó la propina, si era fumador o no.\n",
    "\n",
    "Se puede encontrar la data en este link: https://github.com/mwaskom/seaborn-data\n"
   ]
  },
  {
   "cell_type": "code",
   "execution_count": 75,
   "id": "70049775",
   "metadata": {},
   "outputs": [],
   "source": [
    "import seaborn as sns\n",
    "tips = sns.load_dataset(\"tips\")\n"
   ]
  },
  {
   "cell_type": "code",
   "execution_count": 76,
   "id": "f4c98efb",
   "metadata": {},
   "outputs": [
    {
     "data": {
      "text/html": [
       "<div>\n",
       "<style scoped>\n",
       "    .dataframe tbody tr th:only-of-type {\n",
       "        vertical-align: middle;\n",
       "    }\n",
       "\n",
       "    .dataframe tbody tr th {\n",
       "        vertical-align: top;\n",
       "    }\n",
       "\n",
       "    .dataframe thead th {\n",
       "        text-align: right;\n",
       "    }\n",
       "</style>\n",
       "<table border=\"1\" class=\"dataframe\">\n",
       "  <thead>\n",
       "    <tr style=\"text-align: right;\">\n",
       "      <th></th>\n",
       "      <th>total_bill</th>\n",
       "      <th>tip</th>\n",
       "      <th>sex</th>\n",
       "      <th>smoker</th>\n",
       "      <th>day</th>\n",
       "      <th>time</th>\n",
       "      <th>size</th>\n",
       "    </tr>\n",
       "  </thead>\n",
       "  <tbody>\n",
       "    <tr>\n",
       "      <th>0</th>\n",
       "      <td>16.99</td>\n",
       "      <td>1.01</td>\n",
       "      <td>Female</td>\n",
       "      <td>No</td>\n",
       "      <td>Sun</td>\n",
       "      <td>Dinner</td>\n",
       "      <td>2</td>\n",
       "    </tr>\n",
       "    <tr>\n",
       "      <th>1</th>\n",
       "      <td>10.34</td>\n",
       "      <td>1.66</td>\n",
       "      <td>Male</td>\n",
       "      <td>No</td>\n",
       "      <td>Sun</td>\n",
       "      <td>Dinner</td>\n",
       "      <td>3</td>\n",
       "    </tr>\n",
       "    <tr>\n",
       "      <th>2</th>\n",
       "      <td>21.01</td>\n",
       "      <td>3.50</td>\n",
       "      <td>Male</td>\n",
       "      <td>No</td>\n",
       "      <td>Sun</td>\n",
       "      <td>Dinner</td>\n",
       "      <td>3</td>\n",
       "    </tr>\n",
       "    <tr>\n",
       "      <th>3</th>\n",
       "      <td>23.68</td>\n",
       "      <td>3.31</td>\n",
       "      <td>Male</td>\n",
       "      <td>No</td>\n",
       "      <td>Sun</td>\n",
       "      <td>Dinner</td>\n",
       "      <td>2</td>\n",
       "    </tr>\n",
       "    <tr>\n",
       "      <th>4</th>\n",
       "      <td>24.59</td>\n",
       "      <td>3.61</td>\n",
       "      <td>Female</td>\n",
       "      <td>No</td>\n",
       "      <td>Sun</td>\n",
       "      <td>Dinner</td>\n",
       "      <td>4</td>\n",
       "    </tr>\n",
       "    <tr>\n",
       "      <th>...</th>\n",
       "      <td>...</td>\n",
       "      <td>...</td>\n",
       "      <td>...</td>\n",
       "      <td>...</td>\n",
       "      <td>...</td>\n",
       "      <td>...</td>\n",
       "      <td>...</td>\n",
       "    </tr>\n",
       "    <tr>\n",
       "      <th>239</th>\n",
       "      <td>29.03</td>\n",
       "      <td>5.92</td>\n",
       "      <td>Male</td>\n",
       "      <td>No</td>\n",
       "      <td>Sat</td>\n",
       "      <td>Dinner</td>\n",
       "      <td>3</td>\n",
       "    </tr>\n",
       "    <tr>\n",
       "      <th>240</th>\n",
       "      <td>27.18</td>\n",
       "      <td>2.00</td>\n",
       "      <td>Female</td>\n",
       "      <td>Yes</td>\n",
       "      <td>Sat</td>\n",
       "      <td>Dinner</td>\n",
       "      <td>2</td>\n",
       "    </tr>\n",
       "    <tr>\n",
       "      <th>241</th>\n",
       "      <td>22.67</td>\n",
       "      <td>2.00</td>\n",
       "      <td>Male</td>\n",
       "      <td>Yes</td>\n",
       "      <td>Sat</td>\n",
       "      <td>Dinner</td>\n",
       "      <td>2</td>\n",
       "    </tr>\n",
       "    <tr>\n",
       "      <th>242</th>\n",
       "      <td>17.82</td>\n",
       "      <td>1.75</td>\n",
       "      <td>Male</td>\n",
       "      <td>No</td>\n",
       "      <td>Sat</td>\n",
       "      <td>Dinner</td>\n",
       "      <td>2</td>\n",
       "    </tr>\n",
       "    <tr>\n",
       "      <th>243</th>\n",
       "      <td>18.78</td>\n",
       "      <td>3.00</td>\n",
       "      <td>Female</td>\n",
       "      <td>No</td>\n",
       "      <td>Thur</td>\n",
       "      <td>Dinner</td>\n",
       "      <td>2</td>\n",
       "    </tr>\n",
       "  </tbody>\n",
       "</table>\n",
       "<p>244 rows × 7 columns</p>\n",
       "</div>"
      ],
      "text/plain": [
       "     total_bill   tip     sex smoker   day    time  size\n",
       "0         16.99  1.01  Female     No   Sun  Dinner     2\n",
       "1         10.34  1.66    Male     No   Sun  Dinner     3\n",
       "2         21.01  3.50    Male     No   Sun  Dinner     3\n",
       "3         23.68  3.31    Male     No   Sun  Dinner     2\n",
       "4         24.59  3.61  Female     No   Sun  Dinner     4\n",
       "..          ...   ...     ...    ...   ...     ...   ...\n",
       "239       29.03  5.92    Male     No   Sat  Dinner     3\n",
       "240       27.18  2.00  Female    Yes   Sat  Dinner     2\n",
       "241       22.67  2.00    Male    Yes   Sat  Dinner     2\n",
       "242       17.82  1.75    Male     No   Sat  Dinner     2\n",
       "243       18.78  3.00  Female     No  Thur  Dinner     2\n",
       "\n",
       "[244 rows x 7 columns]"
      ]
     },
     "execution_count": 76,
     "metadata": {},
     "output_type": "execute_result"
    }
   ],
   "source": [
    "tips"
   ]
  },
  {
   "cell_type": "code",
   "execution_count": 77,
   "id": "68c03700",
   "metadata": {},
   "outputs": [
    {
     "data": {
      "text/plain": [
       "<seaborn.axisgrid.FacetGrid at 0x11b5d2fa0>"
      ]
     },
     "execution_count": 77,
     "metadata": {},
     "output_type": "execute_result"
    },
    {
     "data": {
      "image/png": "[encoded data removed]",
      "text/plain": [
       "<Figure size 777.475x360 with 2 Axes>"
      ]
     },
     "metadata": {},
     "output_type": "display_data"
    }
   ],
   "source": [
    "# set a theme\n",
    "sns.set_theme()\n",
    "# Create a visualization\n",
    "sns.relplot(\n",
    "    data=tips,\n",
    "    x=\"total_bill\", y=\"tip\", col=\"time\",\n",
    "    hue=\"smoker\", style=\"smoker\", size=\"size\",\n",
    ")\n"
   ]
  },
  {
   "cell_type": "markdown",
   "id": "9969e759",
   "metadata": {},
   "source": [
    "# Github\n",
    "### 1.- [Instalacion de Git](https://github.com/dtravisany/ACI777/blob/main/02_Instalacion_Git/README.md)\n",
    "### 2.- Descragar hoja de referencia, tambien llamadas [cheat sheets](https://training.github.com/downloads/es_ES/github-git-cheat-sheet.pdf)"
   ]
  },
  {
   "cell_type": "markdown",
   "id": "ab48d3f8",
   "metadata": {},
   "source": [
    "# Ejercicios"
   ]
  },
  {
   "cell_type": "markdown",
   "id": "fdfa6ff5",
   "metadata": {},
   "source": [
    "### Pasar el siguiente script a una función llamada saludo\n",
    "\n",
    "~~~\n",
    "# Script saludo\n",
    "print(\"Hello, I'm Python!\")\n",
    "\n",
    "# Input, assignment\n",
    "name = input('What is your name?\\n')\n",
    "print('Hi, %s.' % name)\n",
    "~~~"
   ]
  },
  {
   "cell_type": "code",
   "execution_count": null,
   "id": "73ac3ff7",
   "metadata": {},
   "outputs": [],
   "source": []
  },
  {
   "cell_type": "markdown",
   "id": "38c51f33",
   "metadata": {},
   "source": [
    "### Hacer un script o funcion Fibinacci diferente a la usada en clases y exlicarla\n",
    " "
   ]
  },
  {
   "cell_type": "code",
   "execution_count": null,
   "id": "cae35ba4",
   "metadata": {},
   "outputs": [],
   "source": []
  },
  {
   "cell_type": "markdown",
   "id": "15103102",
   "metadata": {},
   "source": [
    "### Realizar una función que reciba una lista y devuelva la suma de sus elementos"
   ]
  },
  {
   "cell_type": "code",
   "execution_count": 78,
   "id": "62117a2d",
   "metadata": {},
   "outputs": [
    {
     "ename": "SyntaxError",
     "evalue": "invalid syntax (<ipython-input-78-c7966de47958>, line 3)",
     "output_type": "error",
     "traceback": [
      "\u001b[0;36m  File \u001b[0;32m\"<ipython-input-78-c7966de47958>\"\u001b[0;36m, line \u001b[0;32m3\u001b[0m\n\u001b[0;31m    ..\u001b[0m\n\u001b[0m    ^\u001b[0m\n\u001b[0;31mSyntaxError\u001b[0m\u001b[0;31m:\u001b[0m invalid syntax\n"
     ]
    }
   ],
   "source": [
    "#completar\n",
    "def suma_lista(lista):\n",
    "    ..\n",
    "    ...\n",
    "    ...\n",
    "    return suma\n",
    "\n",
    "#Uso\n",
    "mi_lista = [54,12,99,15]\n",
    "print (\"Los elementos de la lista sumna:\")\n",
    "print(suma_lista(lista))\n",
    "\n",
    "## Salida\n",
    "# Los elementos de la lista suman:\n",
    "# 180\n"
   ]
  },
  {
   "cell_type": "markdown",
   "id": "257f0f61",
   "metadata": {},
   "source": [
    "### Realizar una función que reciba una lista y un valor. Debe devolver la cantidad de veces que aparece ese valor en la lista\n"
   ]
  },
  {
   "cell_type": "code",
   "execution_count": 79,
   "id": "d033f898",
   "metadata": {},
   "outputs": [
    {
     "ename": "IndentationError",
     "evalue": "expected an indented block (<ipython-input-79-45c7218a30a8>, line 11)",
     "output_type": "error",
     "traceback": [
      "\u001b[0;36m  File \u001b[0;32m\"<ipython-input-79-45c7218a30a8>\"\u001b[0;36m, line \u001b[0;32m11\u001b[0m\n\u001b[0;31m    print(ocurrencias(l,v))\u001b[0m\n\u001b[0m    ^\u001b[0m\n\u001b[0;31mIndentationError\u001b[0m\u001b[0;31m:\u001b[0m expected an indented block\n"
     ]
    }
   ],
   "source": [
    "l=[1,4,2,6,5,6,4,2,4,6,1,7,1,4,5,1,1,5,3,2,6,3,1,1,6,4,2,3,4,9,8,6,4,3]\n",
    "v=6\n",
    "\n",
    "def ocurrencias(lista,valor):\n",
    "    # IMPLEMENTAR\n",
    " \n",
    "\n",
    "\n",
    "\n",
    "\n",
    "print(ocurrencias(l,v))"
   ]
  },
  {
   "cell_type": "markdown",
   "id": "16072ce3",
   "metadata": {},
   "source": [
    "### Crear el siguiente arreglo con forma (3,4)\n",
    "    [[ 1  2  3  4]\n",
    "    [ 5  6  7  8]\n",
    "    [ 9 10 11 12]]"
   ]
  },
  {
   "cell_type": "code",
   "execution_count": null,
   "id": "b2f205be",
   "metadata": {},
   "outputs": [],
   "source": []
  },
  {
   "cell_type": "markdown",
   "id": "3a6085dd",
   "metadata": {},
   "source": [
    "### Para M a) Indicar de que tipo es, b) ¿Qué forma tiene? c) ¿Cuantos elementos tiene? d) Qué tipo de dato tiene?"
   ]
  },
  {
   "cell_type": "code",
   "execution_count": 80,
   "id": "c53463ff",
   "metadata": {},
   "outputs": [],
   "source": [
    "import numpy as np\n",
    "M = np.array([[1.0, 4.5], [3.4, 4.6], [5.5, 6.2]])"
   ]
  },
  {
   "cell_type": "code",
   "execution_count": null,
   "id": "080565c8",
   "metadata": {},
   "outputs": [],
   "source": []
  },
  {
   "cell_type": "code",
   "execution_count": null,
   "id": "814e17ec",
   "metadata": {},
   "outputs": [],
   "source": []
  },
  {
   "cell_type": "markdown",
   "id": "9cb14eec",
   "metadata": {},
   "source": [
    "### Para B a) Indicar de que tipo es, b) ¿Qué forma tiene? c) ¿Cuantos elementos tiene? d) Qué tipo de dato tiene?"
   ]
  },
  {
   "cell_type": "code",
   "execution_count": null,
   "id": "a580d57f",
   "metadata": {},
   "outputs": [],
   "source": [
    "B = np.array([[1, 2], [3, 4]], dtype=complex)"
   ]
  },
  {
   "cell_type": "markdown",
   "id": "380f9e96",
   "metadata": {},
   "source": [
    "### Crear una matriz de 5x8, que esté inicializada con el valor 0.5\n"
   ]
  },
  {
   "cell_type": "code",
   "execution_count": null,
   "id": "365db8e1",
   "metadata": {},
   "outputs": [],
   "source": []
  },
  {
   "cell_type": "markdown",
   "id": "4d621bb0",
   "metadata": {},
   "source": [
    "### a) Sumarle 5 a la fila 2 de la matriz"
   ]
  },
  {
   "cell_type": "code",
   "execution_count": null,
   "id": "66162aad",
   "metadata": {},
   "outputs": [],
   "source": []
  },
  {
   "cell_type": "markdown",
   "id": "44ba16eb",
   "metadata": {},
   "source": [
    "### a) Multiplicar por 66 la fila 4 de la matriz a)"
   ]
  },
  {
   "cell_type": "code",
   "execution_count": null,
   "id": "d42d696d",
   "metadata": {},
   "outputs": [],
   "source": []
  },
  {
   "cell_type": "markdown",
   "id": "3f2f5fca",
   "metadata": {},
   "source": [
    "### b) Dividir  por 2 la fila 4 de la matriz b)"
   ]
  },
  {
   "cell_type": "code",
   "execution_count": null,
   "id": "98b177e9",
   "metadata": {},
   "outputs": [],
   "source": []
  },
  {
   "cell_type": "markdown",
   "id": "3131170b",
   "metadata": {},
   "source": [
    "\n",
    "### Crea una matriz aleatoria de 5x5 con valores entre mayores a 1\n",
    "\n"
   ]
  },
  {
   "cell_type": "code",
   "execution_count": null,
   "id": "8e4ca5ee",
   "metadata": {},
   "outputs": [],
   "source": []
  },
  {
   "cell_type": "markdown",
   "id": "8650fb17",
   "metadata": {},
   "source": [
    "\n",
    "### c) Calcular el promedio de los elementos de las primeras dos filas de la matriz b) utilizando dos for anidados"
   ]
  },
  {
   "cell_type": "code",
   "execution_count": null,
   "id": "4a5ec351",
   "metadata": {},
   "outputs": [],
   "source": []
  },
  {
   "cell_type": "markdown",
   "id": "912bcdc3",
   "metadata": {},
   "source": [
    "### Hacer de manera libre un gráfico usando ```linspace``` para definir los datos"
   ]
  },
  {
   "cell_type": "code",
   "execution_count": null,
   "id": "01a1242d",
   "metadata": {},
   "outputs": [],
   "source": []
  }
 ],
 "metadata": {
  "kernelspec": {
   "display_name": "Python 3",
   "language": "python",
   "name": "python3"
  },
  "language_info": {
   "codemirror_mode": {
    "name": "ipython",
    "version": 3
   },
   "file_extension": ".py",
   "mimetype": "text/x-python",
   "name": "python",
   "nbconvert_exporter": "python",
   "pygments_lexer": "ipython3",
   "version": "3.8.5"
  }
 },
 "nbformat": 4,
 "nbformat_minor": 5
}
