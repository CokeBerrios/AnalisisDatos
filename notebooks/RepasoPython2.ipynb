{
 "cells": [
  {
   "cell_type": "markdown",
   "id": "0a192066",
   "metadata": {},
   "source": [
    "# Repaso Python II"
   ]
  },
  {
   "cell_type": "markdown",
   "id": "e67bd67a",
   "metadata": {},
   "source": [
    "## Continuación de ciclos\n",
    "\n",
    "***El while se usa hasta conseguir que la condición definida por el ususario es cierta o para correr código infinitamente***\n",
    "\n",
    "    while condicion es cierta:\n",
    "    instruccion\n",
    "    instruccion\n",
    "    .\n",
    "    .\n",
    "    instruccion```\n",
    "\n",
    "***El for se usa para iterar sobre algo, que puede ser una lista o un string***\n",
    "\n",
    "    for i in lista:\n",
    "        instruccion\n",
    "        instruccion\n",
    "        .\n",
    "        .\n",
    "        instruccion\n",
    "\n",
    "***Los ciclos tienen cuatro componentes básicos:***\n",
    "\n",
    "```Inicialización```:  Es cuando se debe inicializar la variable que va a iterar, por ejemplo ```i = 0``` o la variable **i** del for (for **i** in lista)\n",
    "\n",
    "```Condición de repetición```: Hasta donde se ejecuta el ciclo. Por ejemplo ```for i in range(0,3)``` se ejecutará siempre y cuando i sea 0, 1 y 2. Ej.2: ```while x <= 6``` se ejecutará siempre y cuando x sea menor o igual a 6.\n",
    "\n",
    "```Cuerpo del ciclo```: Se ejecutan las instrucciones determinadas por el ususario dentro del ciclo.\n",
    "```Actualizar```: Actualizar la variable que itera para continuar el ciclo. En un ciclo while, es necesario incremetar/disminuir la variable Por ejemplo ```x = x + 1``` , ```x +=1``` . Por oreo lado en el for al usar ```range``` por defecto se incrementa en uno. \n",
    "\n",
    "\n",
    "\n",
    "## ¿Cómo podemos  tablas de multiplicar usando ciclos\n",
    "\n",
    " 1) Necesitamos una varible que almacenará lo que se mostrará en pantalla = string\n",
    " \n",
    " 2) el primer cliclo for nos sirve para definir el rango de la tabla de multiplicar a realizar. Ej tabla del 1 al 3 , se colocará range(1,4)\n",
    " \n",
    " 3) El segundo ciclo, define los digitos que queremos multiplicar por ejemplo del 1 al 10 --> range(1,11)\n",
    " \n",
    " 4) Podemos definir una variable que contenga el valor de la multiplicación que serán los digitos del primer ciclo multiplicado por los digitos del segundo ciclo\n",
    " \n",
    " 5) Finalmente mostramos el resultado y si queremos mostrar con salto de linea, agregrar a la variable almacenadora string.\n",
    " \n",
    " \n",
    "\n"
   ]
  },
  {
   "cell_type": "code",
   "execution_count": null,
   "id": "560acaed",
   "metadata": {},
   "outputs": [],
   "source": [
    "string=''\n",
    "\n",
    "for i in range(1,4):\n",
    "    for j in range(1,11):\n",
    "        mult = i * j\n",
    "        string += str(i) + ' * ' +str(j) + ' = ' + str(mult) \n",
    "        string +=\"\\n\"\n",
    "        \n",
    "print(string)"
   ]
  },
  {
   "cell_type": "markdown",
   "id": "31e7dfe0",
   "metadata": {},
   "source": [
    "## ¿Cómo se pueden hacer figuras usando ciclos? \n",
    "\n",
    "Vamos a ver como podemos hacer la siguiente figura:\n",
    "\n",
    "    +\n",
    "    ++\n",
    "    +++\n",
    "    ++++\n",
    "    +++++\n",
    "\n",
    "La secuencia es pensar que hay 5 filas y que a medida que la fila aumenta, tambien aumenta el numero de + por columna. Es decir, en la fila 1, hay 1 ```+```: en la fila2, hay 2 ```+```...etc hasta fila n hay n ```+```. \n",
    "Se debe llenar cada fila con asteriscos según el número de fila donde se encuentra la iteración. Al final se concatena un salto de línea. Para ello podemos usar :\n",
    "1. Un ciclo for \n",
    "\n",
    "2. Un ciclo for anidado.\n",
    "\n",
    "3. Concatenar un salto de línea.\n",
    "\n",
    "- Se define el número de filas: ```n=5```\n",
    "\n",
    "- Definimos una variable que contiene lo que vamos a imprimir: ```cointain```\n",
    "\n",
    "- En el primer ciclo for, generamos una variable ```i``` que tenga un ranfo de ```n+1```  ya que ```n``` es igual a 0, 1, 2, 3, 4. En este caso, en la primera vuelta ```i=0``` y no entra en el segundo for porque  no hay rango de 0. Es por ello que para lograr entrar en el segundo for las veces que necesitamos, se debe sumar ```1``` al valor ```n``` : ```range (n+1)```"
   ]
  },
  {
   "cell_type": "code",
   "execution_count": null,
   "id": "0be97b3a",
   "metadata": {},
   "outputs": [],
   "source": [
    "n = 5\n",
    "\n",
    "contain =''\n",
    "for i in range(n+1):\n",
    "    for j in range(i):\n",
    "        contain +='+'\n",
    "    if i != n+1:    \n",
    "        contain +='\\n'\n",
    "        \n",
    "print(contain)"
   ]
  },
  {
   "cell_type": "markdown",
   "id": "a0660f7d",
   "metadata": {},
   "source": [
    "## Hacer la misma figura al revés \n",
    "    +++++\n",
    "    ++++\n",
    "    +++\n",
    "    ++\n",
    "    +\n",
    " \n",
    " Iteración 0: ```5 - 0 = 5```\n",
    " \n",
    " Iteración 1: ```5 - 1 = 4```\n",
    " \n",
    " Iteración 2: ```5 - 2 = 3```\n",
    " \n",
    " Iteración 4: ```5 - 3 = 2```\n",
    " \n",
    " Iteración 5: ```5 - 4 = 1```"
   ]
  },
  {
   "cell_type": "code",
   "execution_count": null,
   "id": "3689888d",
   "metadata": {},
   "outputs": [],
   "source": [
    "n = 5\n",
    "contain=''\n",
    "for i in range(n):\n",
    "    for j in range(n - i): \n",
    "        contain += '+'\n",
    "    contain += '\\n' \n",
    "print(contain)"
   ]
  },
  {
   "cell_type": "markdown",
   "id": "16960897",
   "metadata": {},
   "source": [
    "# Funciones"
   ]
  },
  {
   "cell_type": "markdown",
   "id": "76eeab00",
   "metadata": {},
   "source": [
    "- Las funciones nos permiten agrupar instrucciones y reutilizarlas.\n",
    "- Una funcion puede devolver un valor o no devolver nada. Por ejemplo, ya hemos usadao anteriormente la función ```print()``` que muestra por pantalla lo que le entregamos y la función ```input()``` que solo almacena el input entregado por el usuario.\n",
    "- Las funciones se pueden llamar desde el espacio de trabajo principal como ```función()```. Ej. ```print()```, ```len()```\n",
    "- Tambien se pueden llamar dentro de objetos como ```objeto.función()```. Ej. ```\"hola\".upper```\n",
    "- Se pueden llamar dentro de las clases como ```Clase.función()```. Ej. ```LinearRegression().fit()```\n",
    "- Se pueden llamar ademas dentro de módulos como ```módulo.función()``` Ej. ```math.sqrt()```\n",
    "\n",
    "### Algunas carateristicas\n",
    "\n",
    "- Se pueden importar desde un archivo o desde librerías externas \n",
    "- Se organizan en torno a clases y módulos\n",
    "- Se usan para la programación ***modular*** : Dividir un programa en funciones independientes.\n",
    "- Pueden tener tres partes: ***nombre***, ***parámetros*** y ***valor de retorno***\n",
    "```nombre``` no puede ser una palabra reservada  y se define como ```def```nombre_funcion\n",
    "\n",
    "***Ejemplo de donde es adecuado usar una función: Realizar una calculadora simple: se puede hacer en funciones independientes la suma, resta, multiplicación y división.***\n",
    "\n",
    "~~~\n",
    "def nombre_de_funcion(param1,param2, etc. ):\n",
    "    #Se especifica que hace la función o se agrega una descripción de la función entre comillas triples\n",
    "    \"\"\"Funcion que realiza una operación de tipo X y devuelve un valor Z\"\"\"\n",
    "    # Instrucciones se identa de 4 espacios\n",
    "    instruccion\n",
    "    instruccion\n",
    "    .\n",
    "    .\n",
    "    return value\n",
    "    \n",
    "~~~"
   ]
  },
  {
   "cell_type": "code",
   "execution_count": null,
   "id": "7d56a5c7",
   "metadata": {},
   "outputs": [],
   "source": [
    "def mostrar_menu():\n",
    "    \"\"\"Funcion menu imprime el menú de opciones del banco \"\"\"\n",
    "    print (\"\\n¡Bienvenido al Banco Amigo!\")\n",
    "    print (\"Escoja una opción:\")\n",
    "    opcion = int(input(\"1. Consultar saldo\\n2. Hacer depósito\\n3. Realizar giro\\n4. Salir\\n\"))\n",
    "    \n",
    "    return opcion"
   ]
  },
  {
   "cell_type": "code",
   "execution_count": null,
   "id": "cd3e455b",
   "metadata": {},
   "outputs": [],
   "source": [
    "opcion = mostrar_menu()"
   ]
  },
  {
   "cell_type": "code",
   "execution_count": null,
   "id": "a6351318",
   "metadata": {},
   "outputs": [],
   "source": [
    "print (opcion)"
   ]
  },
  {
   "cell_type": "code",
   "execution_count": null,
   "id": "cee3a626",
   "metadata": {},
   "outputs": [],
   "source": [
    "def mostrar_saldo(saldo):\n",
    "    print (\"Tu saldo es de {}\".format(saldo))"
   ]
  },
  {
   "cell_type": "code",
   "execution_count": null,
   "id": "b15288d4",
   "metadata": {},
   "outputs": [],
   "source": [
    "saldo = 100000\n",
    "mostrar_saldo(saldo)"
   ]
  },
  {
   "cell_type": "code",
   "execution_count": null,
   "id": "c776df69",
   "metadata": {},
   "outputs": [],
   "source": [
    "help(mostrar_menu)"
   ]
  },
  {
   "cell_type": "code",
   "execution_count": null,
   "id": "59a1548c",
   "metadata": {},
   "outputs": [],
   "source": [
    "def incrementar_en_uno(numero):\n",
    "    \"\"\" \n",
    "    Esta función recibe cualquier numero y lo incrementa en 1. Imprime por pantalla el total de ese incremento\n",
    "    \"\"\"\n",
    "    total = numero + 1     \n",
    "    print(\"El resultado es: \", total)   "
   ]
  },
  {
   "cell_type": "code",
   "execution_count": null,
   "id": "67424307",
   "metadata": {},
   "outputs": [],
   "source": [
    "incrementar_en_uno(20)"
   ]
  },
  {
   "cell_type": "code",
   "execution_count": null,
   "id": "ff71e20b",
   "metadata": {},
   "outputs": [],
   "source": [
    "incrementar_en_uno(5.0)"
   ]
  },
  {
   "cell_type": "code",
   "execution_count": null,
   "id": "aba3b178",
   "metadata": {},
   "outputs": [],
   "source": [
    "# la función no acepta str\n",
    "incrementar_en_uno('4')"
   ]
  },
  {
   "cell_type": "code",
   "execution_count": null,
   "id": "45b3ee41",
   "metadata": {},
   "outputs": [],
   "source": [
    "help(incrementar_en_uno)"
   ]
  },
  {
   "cell_type": "code",
   "execution_count": null,
   "id": "18563b8c",
   "metadata": {},
   "outputs": [],
   "source": [
    "# La misma función pero en vez de imprimir, retornará el número \n",
    "def incrementar_en_uno(numero):\n",
    "    \"\"\" \n",
    "    Esta función recibe cualquier número y lo incrementa en 1. Retorna el total de ese incremento\n",
    "    \"\"\"\n",
    "    total = numero + 1    \n",
    "    return total"
   ]
  },
  {
   "cell_type": "code",
   "execution_count": null,
   "id": "775e35cf",
   "metadata": {},
   "outputs": [],
   "source": [
    "help(incrementar_en_uno)"
   ]
  },
  {
   "cell_type": "code",
   "execution_count": null,
   "id": "653efdff",
   "metadata": {},
   "outputs": [],
   "source": [
    "# Aqui en notebooks si se ve pero en un script que se corre por consola no se verá\n",
    "incrementar_en_uno(10)"
   ]
  },
  {
   "cell_type": "code",
   "execution_count": null,
   "id": "f6b40f9d",
   "metadata": {},
   "outputs": [],
   "source": [
    "# Una forma es mostrar explixitamente el retorno\n",
    "print(incrementar_en_uno(10)) "
   ]
  },
  {
   "cell_type": "code",
   "execution_count": null,
   "id": "81168390",
   "metadata": {},
   "outputs": [],
   "source": [
    "# Otra forma de mostrar es \n",
    "incremento = incrementar_en_uno(10)\n",
    "print (incremento)"
   ]
  },
  {
   "cell_type": "markdown",
   "id": "8cb33300",
   "metadata": {},
   "source": [
    "## Función Fahrenheit to Celsius"
   ]
  },
  {
   "cell_type": "code",
   "execution_count": null,
   "id": "f1b39c61",
   "metadata": {},
   "outputs": [],
   "source": [
    "def fahrenheit2celsius(f):\n",
    "    celsius = (f + 40) / 1.8 - 40\n",
    "    return celsius"
   ]
  },
  {
   "cell_type": "code",
   "execution_count": null,
   "id": "13593416",
   "metadata": {},
   "outputs": [],
   "source": [
    "fahrenheit2celsius(10)"
   ]
  },
  {
   "cell_type": "code",
   "execution_count": null,
   "id": "1d250790",
   "metadata": {},
   "outputs": [],
   "source": [
    "#Es posible siempre realizar una operación con una función Ej:\n",
    "grados_celsius = fahrenheit2celsius(10)\n",
    "grados_celsius + 10"
   ]
  },
  {
   "cell_type": "markdown",
   "id": "90b02c02",
   "metadata": {},
   "source": [
    "## Tipos de variables\n",
    "\n",
    "Existen 4 tipos de variables en Python:\n",
    "* globales\n",
    "* locales\n",
    "* de instancia\n",
    "* de clase\n",
    "\n",
    "Las últimas dos se ocupan dentro de la creación de objetos (no serán abordadas). Nos\n",
    "enfocaremos en las variables globales y locales."
   ]
  },
  {
   "cell_type": "markdown",
   "id": "439db4d8",
   "metadata": {},
   "source": [
    "__Una variable definida dentro de una función, al ser local, no puede ser accedida fuera de ésta (solo existe en\n",
    "el scope de la función donde se definió).__"
   ]
  },
  {
   "cell_type": "code",
   "execution_count": null,
   "id": "e056b5ce",
   "metadata": {},
   "outputs": [],
   "source": [
    "#Esto seria una varibale global\n",
    "nota_aprobacion = 6\n",
    "\n",
    "def aprobado(promedio, nota_aprobacion = 4): \n",
    "    if promedio >= nota_aprobacion:\n",
    "        status = True\n",
    "    else:\n",
    "        status = False\n",
    "    return status\n",
    "\n",
    "print(aprobado(5.6, 6))\n",
    "\n"
   ]
  },
  {
   "cell_type": "code",
   "execution_count": null,
   "id": "a9bc3b6e",
   "metadata": {},
   "outputs": [],
   "source": [
    "print(aprobado(5.6))\n"
   ]
  },
  {
   "cell_type": "code",
   "execution_count": null,
   "id": "c8a4f586",
   "metadata": {},
   "outputs": [],
   "source": [
    "print(nota_aprobacion)\n"
   ]
  },
  {
   "cell_type": "code",
   "execution_count": null,
   "id": "e43f17ad",
   "metadata": {},
   "outputs": [],
   "source": [
    "print(status)\n"
   ]
  },
  {
   "cell_type": "code",
   "execution_count": null,
   "id": "2f951734",
   "metadata": {},
   "outputs": [],
   "source": [
    "import math\n",
    "help(math)\n"
   ]
  },
  {
   "cell_type": "code",
   "execution_count": null,
   "id": "8f86e012",
   "metadata": {},
   "outputs": [],
   "source": [
    "help(math.sqrt)"
   ]
  },
  {
   "cell_type": "markdown",
   "id": "f9ed03df",
   "metadata": {},
   "source": [
    "## Secuencia Fibonacci en Python\n",
    "\n",
    "La secuencia de Fibonacci es una serie común y de uso frecuente en matemáticas. Se muestra a continuación.\n",
    "~~~\n",
    "0,1,1,2,3,5,8,13,21,34,55,89,144,233....\n",
    "~~~\n",
    "\n",
    "Fibonacci es la suma de los dos números anteriores y se puede mostrar matemáticamente como ```Fn = Fn-1 + Fn-2```\n",
    "El primer y segundo elementos de la serie son 0 y 1, respectivamente.\n"
   ]
  },
  {
   "cell_type": "code",
   "execution_count": null,
   "id": "ed7cfeaa",
   "metadata": {},
   "outputs": [],
   "source": [
    "def fib(n):\n",
    "     a, b = 0, 1\n",
    "    #Va a imprimir los valores arrojados por la variable a \n",
    "    #en repetidas veces mientras la condición sea a < n, es decir verdadero \n",
    "     while a < n:\n",
    "         # linea que imprime los valores de la sucesión de Fibonacci.\n",
    "         print(a, end=' ')\n",
    "         #Los valores de a y b son obtenidos utilizando la asignación paralela\n",
    "         a, b = b, a+b\n",
    "     print()\n",
    "    "
   ]
  },
  {
   "cell_type": "code",
   "execution_count": null,
   "id": "b5849ba0",
   "metadata": {},
   "outputs": [],
   "source": [
    "fib(90)"
   ]
  },
  {
   "cell_type": "markdown",
   "id": "1d81b7ca",
   "metadata": {},
   "source": [
    "# Numpy"
   ]
  },
  {
   "cell_type": "markdown",
   "id": "debddae0",
   "metadata": {},
   "source": [
    " ```numpy``` es la biblioteca principal para la computación científica en Python. Es usado en casi todos los cálculos numéricos. Es un paquete que provee a Python de estructuras de datos vectoriales, matriciales, y de rango mayor, de alto rendimiento. Está implementado en C y Fortran, de modo que cuando los cálculos son vectorizados (formulados con vectores y matrices), el rendimiento es muy bueno.\n",
    " \n",
    "***[Documentacion de NumPy](https://numpy.org/doc/stable/index.html)*** \n",
    "\n",
    "```numpy``` se importa de la siguiente manera "
   ]
  },
  {
   "cell_type": "code",
   "execution_count": null,
   "id": "36d0ef1a",
   "metadata": {},
   "outputs": [],
   "source": [
    "import numpy as np"
   ]
  },
  {
   "cell_type": "markdown",
   "id": "262f3e4d",
   "metadata": {},
   "source": [
    "Existen varias formas para inicializar nuevos arreglos de numpy, por ejemplo desde\n",
    "\n",
    "- Listas o tuplas Python\n",
    "- Usando funciones dedicadas a generar arreglos numpy, como arange, linspace, etc.\n",
    "- Leyendo datos desde archivos\n",
    "\n",
    "***Los arreglos Numpy son de tipo estático y homogéneo. El tipo de elementos es determinado cuando se crea el arreglo.***\n",
    "\n",
    "# Desde lista\n",
    "\n",
    "###  ```numpy.array``` --> ```np.array```\n"
   ]
  },
  {
   "cell_type": "code",
   "execution_count": null,
   "id": "bdc730c9",
   "metadata": {},
   "outputs": [],
   "source": [
    "# un vector: el argumento de la función array es una lista de Python\n",
    "v = np.array([1,2,3,4])\n",
    "v"
   ]
  },
  {
   "cell_type": "code",
   "execution_count": null,
   "id": "8dc6947f",
   "metadata": {},
   "outputs": [],
   "source": [
    "# una matriz: el argumento de la función array es una lista anidada de Python\n",
    "M = np.array([[1, 2], [3, 4]])\n",
    "M"
   ]
  },
  {
   "cell_type": "markdown",
   "id": "2e10236c",
   "metadata": {},
   "source": [
    "Los objetos ```v``` y ```M``` son ambos de tipo ndarray que provee el módulo numpy. \n"
   ]
  },
  {
   "cell_type": "code",
   "execution_count": null,
   "id": "5f29565b",
   "metadata": {},
   "outputs": [],
   "source": [
    "type(v)"
   ]
  },
  {
   "cell_type": "code",
   "execution_count": null,
   "id": "ec2a6caa",
   "metadata": {},
   "outputs": [],
   "source": [
    "type(M)"
   ]
  },
  {
   "cell_type": "code",
   "execution_count": null,
   "id": "9535ae21",
   "metadata": {},
   "outputs": [],
   "source": [
    "type(v), type(M)"
   ]
  },
  {
   "cell_type": "markdown",
   "id": "a31e5fa9",
   "metadata": {},
   "source": [
    "Estos arreglos se diferencian sólo por su forma y esto se puede ver facilmente usando ```ndarray.shape``` o ```np.shape(ndarray)```"
   ]
  },
  {
   "cell_type": "code",
   "execution_count": null,
   "id": "024b7fa0",
   "metadata": {},
   "outputs": [],
   "source": [
    "v.shape"
   ]
  },
  {
   "cell_type": "code",
   "execution_count": null,
   "id": "dd56e9ef",
   "metadata": {},
   "outputs": [],
   "source": [
    "np.shape(v)"
   ]
  },
  {
   "cell_type": "code",
   "execution_count": null,
   "id": "f9c3dc4e",
   "metadata": {},
   "outputs": [],
   "source": [
    "M.shape"
   ]
  },
  {
   "cell_type": "code",
   "execution_count": null,
   "id": "a51352d9",
   "metadata": {},
   "outputs": [],
   "source": [
    "np.shape(M)"
   ]
  },
  {
   "cell_type": "markdown",
   "id": "3e1972e2",
   "metadata": {},
   "source": [
    "El número de elementos de un arreglo puede obtiene con ```ndarray.size``` o ```np.size(ndarray)```"
   ]
  },
  {
   "cell_type": "code",
   "execution_count": null,
   "id": "caf8f811",
   "metadata": {},
   "outputs": [],
   "source": [
    "v.size "
   ]
  },
  {
   "cell_type": "code",
   "execution_count": null,
   "id": "edb4d90e",
   "metadata": {},
   "outputs": [],
   "source": [
    "np.size(v)"
   ]
  },
  {
   "cell_type": "code",
   "execution_count": null,
   "id": "70b617b2",
   "metadata": {},
   "outputs": [],
   "source": [
    "M.size\n"
   ]
  },
  {
   "cell_type": "code",
   "execution_count": null,
   "id": "6db6a20c",
   "metadata": {},
   "outputs": [],
   "source": [
    "np.size(M)"
   ]
  },
  {
   "cell_type": "markdown",
   "id": "83c7ed29",
   "metadata": {},
   "source": [
    "#### Para saber que tipo de dato contiene el arreglo se puede usar ```dtype```"
   ]
  },
  {
   "cell_type": "code",
   "execution_count": null,
   "id": "c8f71d7d",
   "metadata": {},
   "outputs": [],
   "source": [
    "M.dtype"
   ]
  },
  {
   "cell_type": "markdown",
   "id": "15ed7ed0",
   "metadata": {},
   "source": [
    "##### Algunos tipos comunes que pueden ser usados con dtype son: \n",
    "```int, float, complex, bool, object```"
   ]
  },
  {
   "cell_type": "markdown",
   "id": "a192e4fb",
   "metadata": {},
   "source": [
    "## Generar arraglos usando funciones"
   ]
  },
  {
   "cell_type": "code",
   "execution_count": null,
   "id": "aeebf09b",
   "metadata": {},
   "outputs": [],
   "source": [
    "# crea un arreglo con valores en un rango. Fijarse que el 20 no está incluido\n",
    "\n",
    "x = np.arange(0, 20, 2) # argumentos: desde, hasta, paso"
   ]
  },
  {
   "cell_type": "code",
   "execution_count": null,
   "id": "ab0afafa",
   "metadata": {},
   "outputs": [],
   "source": [
    "x"
   ]
  },
  {
   "cell_type": "code",
   "execution_count": null,
   "id": "db565de1",
   "metadata": {},
   "outputs": [],
   "source": [
    "# Se incluye -1 pero no el 1 en el arreglo\n",
    "a = np.arange(-1, 1, 0.1)"
   ]
  },
  {
   "cell_type": "code",
   "execution_count": null,
   "id": "485b5b7f",
   "metadata": {},
   "outputs": [],
   "source": [
    "a"
   ]
  },
  {
   "cell_type": "markdown",
   "id": "d3fd7dc2",
   "metadata": {},
   "source": [
    "### Usando ```linspace```  \n",
    "    Formato: (desde, hasta, número de elementos)\n",
    "    numpy.linspace(valor_inicial, valor_final, número_de_valores)"
   ]
  },
  {
   "cell_type": "code",
   "execution_count": null,
   "id": "8a18447d",
   "metadata": {},
   "outputs": [],
   "source": [
    "#Ambos puntos finales SON incluidos.\n",
    "np.linspace(0, 10, 25)"
   ]
  },
  {
   "cell_type": "code",
   "execution_count": null,
   "id": "fddf3f49",
   "metadata": {},
   "outputs": [],
   "source": [
    "a = np.linspace(0, 10, 25)\n",
    "print(a.dtype)\n",
    "print(a.shape)"
   ]
  },
  {
   "cell_type": "markdown",
   "id": "d607d1ad",
   "metadata": {},
   "source": [
    "## Usando matplotlib y linspace para graficar"
   ]
  },
  {
   "cell_type": "code",
   "execution_count": null,
   "id": "6722a4f8",
   "metadata": {},
   "outputs": [],
   "source": [
    "import numpy as np\n",
    "import matplotlib.pyplot as plt\n",
    "\n",
    "# 10 numeros del 0 5 (incluye al 0 y al 5)\n",
    "test = np.linspace( 0, 5, 10 )                 \n",
    "print(\"x = \", test)\n",
    "y = np.sin(test)\n",
    "print(\"y = \", y)\n"
   ]
  },
  {
   "cell_type": "code",
   "execution_count": null,
   "id": "9564df37",
   "metadata": {},
   "outputs": [],
   "source": [
    "\n",
    "plt.plot(test,y)\n",
    "plt.show()"
   ]
  },
  {
   "cell_type": "code",
   "execution_count": null,
   "id": "bcaa6733",
   "metadata": {},
   "outputs": [],
   "source": [
    "x = np.linspace( 0, 2*np.pi, 10)\n",
    "y = np.sin(x)\n",
    "print(\"x = \", x)\n",
    "print(\"y = \", y)\n",
    "\n",
    "\n",
    "plt.plot(x,y)\n",
    "plt.show()"
   ]
  },
  {
   "cell_type": "code",
   "execution_count": null,
   "id": "70e3ba82",
   "metadata": {},
   "outputs": [],
   "source": [
    "x = np.linspace( 0, 100, 10)\n",
    "y = np.cos(x)\n",
    "print(\"x = \", x)\n",
    "print(\"y = \", y)\n",
    "\n",
    "\n",
    "plt.plot(x,y)\n",
    "plt.show()"
   ]
  },
  {
   "cell_type": "markdown",
   "id": "ee072687",
   "metadata": {},
   "source": [
    "### Usando ```logspace```\n",
    "\n",
    "De forma semejante, la función numpy.logspace genera un array Numpy formado también por n números entre dos dados, pero en una escala logarítmica. Por ejemplo:"
   ]
  },
  {
   "cell_type": "code",
   "execution_count": null,
   "id": "28b6c3ee",
   "metadata": {},
   "outputs": [],
   "source": [
    "#Por defecto base=10\n",
    "m = np.logspace(1, 10, 10, base=2)\n",
    "m"
   ]
  },
  {
   "cell_type": "markdown",
   "id": "a315903d",
   "metadata": {},
   "source": [
    "### Creando una metriz a partir de listas"
   ]
  },
  {
   "cell_type": "code",
   "execution_count": null,
   "id": "adaedadc",
   "metadata": {},
   "outputs": [],
   "source": [
    "print(\"- Matriz creada con una lista de listas:\")\n",
    "lista_de_listas=[ [1  ,-4], \n",
    "                  [12 , 3], \n",
    "                  [7.2, 5]]\n",
    "matriz = np.array(lista_de_listas)\n",
    "print(matriz)"
   ]
  },
  {
   "cell_type": "markdown",
   "id": "0411e8df",
   "metadata": {},
   "source": [
    "### Crear una matriz de ceros ```np.zeros(dimensiones)```"
   ]
  },
  {
   "cell_type": "code",
   "execution_count": null,
   "id": "c10bcda7",
   "metadata": {},
   "outputs": [],
   "source": [
    "print(\"- Matriz creada con np.zeros:\")\n",
    "dimensiones=(5,5)\n",
    "matriz_ceros = np.zeros(dimensiones)\n",
    "print(matriz_ceros)"
   ]
  },
  {
   "cell_type": "markdown",
   "id": "e06d4a63",
   "metadata": {},
   "source": [
    "### Crear una matriz de unos  ```np.ones(dimensiones)```"
   ]
  },
  {
   "cell_type": "code",
   "execution_count": null,
   "id": "b29a234b",
   "metadata": {},
   "outputs": [],
   "source": [
    "\n",
    "print(\"- Matriz creada con np.ones:\")\n",
    "dimensiones=(5,8)\n",
    "matriz_unos = np.ones(dimensiones)\n",
    "print(matriz_unos)"
   ]
  },
  {
   "cell_type": "code",
   "execution_count": null,
   "id": "19778115",
   "metadata": {},
   "outputs": [],
   "source": [
    "#también podemos usar np.copy para copiar una matriz \n",
    "print(\"Copia de la matriz creada con np.ones:\")\n",
    "matriz_unos_copia=np.copy(matriz_unos)\n",
    "print(matriz_unos_copia)\n"
   ]
  },
  {
   "cell_type": "markdown",
   "id": "c3ce3257",
   "metadata": {},
   "source": [
    "### Acceder a las matrices"
   ]
  },
  {
   "cell_type": "code",
   "execution_count": null,
   "id": "e6fd7e20",
   "metadata": {},
   "outputs": [],
   "source": [
    "lista_de_listas=[ [1  ,-4, 5, 6], \n",
    "                  [12 , 3, 4, 33], \n",
    "                  [7.2, 5, 3.3, 60]]\n",
    "a = np.array(lista_de_listas)\n",
    "\n",
    "print(\"Elementos individuales\")\n",
    "print(a[0,1])\n",
    "print(a[2,1])\n",
    "\n"
   ]
  },
  {
   "cell_type": "code",
   "execution_count": null,
   "id": "19ab5f97",
   "metadata": {},
   "outputs": [],
   "source": [
    "print(\"Vector de elementos de la fila 0\")\n",
    "print(a[0,:])\n",
    "\n"
   ]
  },
  {
   "cell_type": "code",
   "execution_count": null,
   "id": "afd11f59",
   "metadata": {},
   "outputs": [],
   "source": [
    "print(\"Vector de elementos de la fila 1\")\n",
    "print(a[1,:])"
   ]
  },
  {
   "cell_type": "code",
   "execution_count": null,
   "id": "2781affa",
   "metadata": {},
   "outputs": [],
   "source": [
    "print(\"Vector de elementos de la fila 2\")\n",
    "print(a[2,:])"
   ]
  },
  {
   "cell_type": "code",
   "execution_count": null,
   "id": "a995277a",
   "metadata": {},
   "outputs": [],
   "source": [
    "print(\"Submatriz de 2x2 con las primeras dos filas\")\n",
    "print(a[0:2,:])"
   ]
  },
  {
   "cell_type": "code",
   "execution_count": null,
   "id": "ced66db3",
   "metadata": {},
   "outputs": [],
   "source": [
    "print(\"Submatriz de 2x2 con las ultimas dos filas\")\n",
    "print(a[1:3,:])\n"
   ]
  },
  {
   "cell_type": "markdown",
   "id": "9e46319a",
   "metadata": {},
   "source": [
    "### Modificando matrices"
   ]
  },
  {
   "cell_type": "code",
   "execution_count": null,
   "id": "c9f86453",
   "metadata": {},
   "outputs": [],
   "source": [
    "lista_de_listas=[ [1,-40], \n",
    "                  [12,30], \n",
    "                  [7, 5.0]]\n",
    "a = np.array(lista_de_listas)\n",
    "\n",
    "print(\"Matriz original:\")\n",
    "print(a)\n",
    "\n",
    "print(\"Le asignamos el valor 4 a los elementos de la columna 0:\")\n",
    "a[:,0]=4\n",
    "print(a)"
   ]
  },
  {
   "cell_type": "code",
   "execution_count": null,
   "id": "754bff05",
   "metadata": {},
   "outputs": [],
   "source": [
    "print(\"Matriz original:\")\n",
    "print(a)\n",
    "print(\"Dividimos por 2 la columna 1:\")\n",
    "a[:,1]=a[:,1]/2.0\n",
    "print(a)"
   ]
  },
  {
   "cell_type": "code",
   "execution_count": null,
   "id": "b04d248b",
   "metadata": {},
   "outputs": [],
   "source": [
    "print(\"Matriz original:\")\n",
    "print(a)\n",
    "print(\"Le sumamos 1 a toda la matriz:\")\n",
    "a=a+1\n",
    "print(a)"
   ]
  },
  {
   "cell_type": "markdown",
   "id": "b7e1bdbe",
   "metadata": {},
   "source": [
    "## eye : Crea una matriz identidad del tamaño indicado en el argumento."
   ]
  },
  {
   "cell_type": "code",
   "execution_count": null,
   "id": "a0bcf48b",
   "metadata": {},
   "outputs": [],
   "source": [
    "np.eye(4)"
   ]
  },
  {
   "cell_type": "markdown",
   "id": "3699de9f",
   "metadata": {},
   "source": [
    "### random.rand() : Crea una matriz aleatoria de 3x3 con valores entre 0 y 1\n"
   ]
  },
  {
   "cell_type": "code",
   "execution_count": null,
   "id": "b94ea42b",
   "metadata": {},
   "outputs": [],
   "source": [
    "matriz_aleatoria=np.random.rand(3,4)\n",
    "print(matriz_aleatoria)"
   ]
  },
  {
   "cell_type": "markdown",
   "id": "ed94bbb8",
   "metadata": {},
   "source": [
    "### Rand(): Retorna un arreglo con una muestra de números aleatorios con una distribución normal (centrada en 0), a diferencia de rand cuya distribución es uniforme:"
   ]
  },
  {
   "cell_type": "code",
   "execution_count": null,
   "id": "8f7b6365",
   "metadata": {},
   "outputs": [],
   "source": [
    "np.random.randn(5)"
   ]
  },
  {
   "cell_type": "code",
   "execution_count": null,
   "id": "f2168e2f",
   "metadata": {},
   "outputs": [],
   "source": [
    "np.random.randn(4,5)"
   ]
  },
  {
   "cell_type": "markdown",
   "id": "524d4839",
   "metadata": {},
   "source": [
    "# Otras biblootecas de utilidad para el cálculo o análisis científico\n",
    "## Visualización con Matplotlib\n",
    "Es una biblioteca de gráficos 2D y 3D para generar imágenes científicas. \n",
    "Puedes ver mas información en http://matplotlib.org/"
   ]
  },
  {
   "cell_type": "code",
   "execution_count": null,
   "id": "4eb9ebe9",
   "metadata": {},
   "outputs": [],
   "source": [
    "# Importando los paquetes necesarios\n",
    "import matplotlib.pyplot as plt\n",
    "import numpy as np\n",
    "\n",
    "# Preparando los datos . Recordar lindspace --> (desde, hasta, número de elementos)\n",
    "x = np.linspace(0, 10, 100)\n",
    "\n",
    "# Graficar\n",
    "plt.plot(x, x, label='linear')\n",
    "\n",
    "# Agregar leyenda\n",
    "plt.legend()\n",
    "\n",
    "# Mostrar el gráfico\n",
    "plt.show()\n",
    "\n"
   ]
  },
  {
   "cell_type": "markdown",
   "id": "b5cbdbd2",
   "metadata": {},
   "source": [
    "### Más adelante vamos a tener una clase de visualización y además se enviará material de apoyo"
   ]
  },
  {
   "cell_type": "markdown",
   "id": "a213653b",
   "metadata": {},
   "source": [
    "## Visualizacion con Seaborn\n",
    "\n",
    "Seaborn incluye un interesante conjunto de datasets que pueden ser utilizados para probar las distintas visualizaciones. La función disponible para la carga de estos conjuntos de datos es seaborn.load_dataset, devolviendo un dataframe pandas. \n",
    "\n",
    "***Datos \"Tips\"*** = En este conjunto de datos hay información sobre propinas dejadas en un restaurante, con información sobre el día en el que se produjo, si fue en el almuerzo o la cena, el número de comensales, el sexo de la persona que dejó la propina, si era fumador o no.\n",
    "\n",
    "Se puede encontrar la data en este link: https://github.com/mwaskom/seaborn-data\n"
   ]
  },
  {
   "cell_type": "code",
   "execution_count": null,
   "id": "70049775",
   "metadata": {},
   "outputs": [],
   "source": [
    "import seaborn as sns\n",
    "tips = sns.load_dataset(\"tips\")\n"
   ]
  },
  {
   "cell_type": "code",
   "execution_count": null,
   "id": "f4c98efb",
   "metadata": {},
   "outputs": [],
   "source": [
    "tips"
   ]
  },
  {
   "cell_type": "code",
   "execution_count": null,
   "id": "68c03700",
   "metadata": {},
   "outputs": [],
   "source": [
    "# set a theme\n",
    "sns.set_theme()\n",
    "# Create a visualization\n",
    "sns.relplot(\n",
    "    data=tips,\n",
    "    x=\"total_bill\", y=\"tip\", col=\"time\",\n",
    "    hue=\"smoker\", style=\"smoker\", size=\"size\",\n",
    ")\n"
   ]
  },
  {
   "cell_type": "markdown",
   "id": "9969e759",
   "metadata": {},
   "source": [
    "# Github\n",
    "### 1.- [Instalacion de Git](https://github.com/dtravisany/ACI777/blob/main/02_Instalacion_Git/README.md)\n",
    "### 2.- Descragar hoja de referencia, tambien llamadas [cheat sheets](https://training.github.com/downloads/es_ES/github-git-cheat-sheet.pdf)"
   ]
  },
  {
   "cell_type": "markdown",
   "id": "ab48d3f8",
   "metadata": {},
   "source": [
    "# Ejercicios"
   ]
  },
  {
   "cell_type": "markdown",
   "id": "fdfa6ff5",
   "metadata": {},
   "source": [
    "### Pasar el siguiente script a una función llamada saludo\n",
    "\n",
    "~~~\n",
    "# Script saludo\n",
    "print(\"Hello, I'm Python!\")\n",
    "\n",
    "# Input, assignment\n",
    "name = input('What is your name?\\n')\n",
    "print('Hi, %s.' % name)\n",
    "~~~"
   ]
  },
  {
   "cell_type": "code",
   "execution_count": null,
   "id": "73ac3ff7",
   "metadata": {},
   "outputs": [],
   "source": []
  },
  {
   "cell_type": "markdown",
   "id": "38c51f33",
   "metadata": {},
   "source": [
    "### Hacer un script o funcion Fibinacci diferente a la usada en clases y exlicarla\n",
    " "
   ]
  },
  {
   "cell_type": "code",
   "execution_count": null,
   "id": "cae35ba4",
   "metadata": {},
   "outputs": [],
   "source": []
  },
  {
   "cell_type": "markdown",
   "id": "15103102",
   "metadata": {},
   "source": [
    "### Realizar una función que reciba una lista y devuelva la suma de sus elementos"
   ]
  },
  {
   "cell_type": "code",
   "execution_count": null,
   "id": "62117a2d",
   "metadata": {},
   "outputs": [],
   "source": [
    "#completar\n",
    "def suma_lista(lista):\n",
    "    ..\n",
    "    ...\n",
    "    ...\n",
    "    return suma\n",
    "\n",
    "#Uso\n",
    "mi_lista = [54,12,99,15]\n",
    "print (\"Los elementos de la lista sumna:\")\n",
    "print(suma_lista(lista))\n",
    "\n",
    "## Salida\n",
    "# Los elementos de la lista suman:\n",
    "# 180\n"
   ]
  },
  {
   "cell_type": "markdown",
   "id": "257f0f61",
   "metadata": {},
   "source": [
    "### Realizar una función que reciba una lista y un valor. Debe devolver la cantidad de veces que aparece ese valor en la lista\n"
   ]
  },
  {
   "cell_type": "code",
   "execution_count": null,
   "id": "d033f898",
   "metadata": {},
   "outputs": [],
   "source": [
    "l=[1,4,2,6,5,6,4,2,4,6,1,7,1,4,5,1,1,5,3,2,6,3,1,1,6,4,2,3,4,9,8,6,4,3]\n",
    "v=6\n",
    "\n",
    "def ocurrencias(lista,valor):\n",
    "    # IMPLEMENTAR\n",
    " \n",
    "\n",
    "\n",
    "\n",
    "\n",
    "print(ocurrencias(l,v))"
   ]
  },
  {
   "cell_type": "markdown",
   "id": "16072ce3",
   "metadata": {},
   "source": [
    "### Crear el siguiente arreglo con forma (3,4)\n",
    "    [[ 1  2  3  4]\n",
    "    [ 5  6  7  8]\n",
    "    [ 9 10 11 12]]"
   ]
  },
  {
   "cell_type": "code",
   "execution_count": null,
   "id": "b2f205be",
   "metadata": {},
   "outputs": [],
   "source": []
  },
  {
   "cell_type": "markdown",
   "id": "3a6085dd",
   "metadata": {},
   "source": [
    "### Para M a) Indicar de que tipo es, b) ¿Qué forma tiene? c) ¿Cuantos elementos tiene? d) Qué tipo de dato tiene?"
   ]
  },
  {
   "cell_type": "code",
   "execution_count": null,
   "id": "c53463ff",
   "metadata": {},
   "outputs": [],
   "source": [
    "import numpy as np\n",
    "M = np.array([[1.0, 4.5], [3.4, 4.6], [5.5, 6.2]])"
   ]
  },
  {
   "cell_type": "code",
   "execution_count": null,
   "id": "080565c8",
   "metadata": {},
   "outputs": [],
   "source": []
  },
  {
   "cell_type": "code",
   "execution_count": null,
   "id": "814e17ec",
   "metadata": {},
   "outputs": [],
   "source": []
  },
  {
   "cell_type": "markdown",
   "id": "9cb14eec",
   "metadata": {},
   "source": [
    "### Para B a) Indicar de que tipo es, b) ¿Qué forma tiene? c) ¿Cuantos elementos tiene? d) Qué tipo de dato tiene?"
   ]
  },
  {
   "cell_type": "code",
   "execution_count": null,
   "id": "a580d57f",
   "metadata": {},
   "outputs": [],
   "source": [
    "B = np.array([[1, 2], [3, 4]], dtype=complex)"
   ]
  },
  {
   "cell_type": "markdown",
   "id": "380f9e96",
   "metadata": {},
   "source": [
    "### Crear una matriz de 5x8, que esté inicializada con el valor 0.5\n"
   ]
  },
  {
   "cell_type": "code",
   "execution_count": null,
   "id": "365db8e1",
   "metadata": {},
   "outputs": [],
   "source": []
  },
  {
   "cell_type": "markdown",
   "id": "4d621bb0",
   "metadata": {},
   "source": [
    "### a) Sumarle 5 a la fila 2 de la matriz"
   ]
  },
  {
   "cell_type": "code",
   "execution_count": null,
   "id": "66162aad",
   "metadata": {},
   "outputs": [],
   "source": []
  },
  {
   "cell_type": "markdown",
   "id": "44ba16eb",
   "metadata": {},
   "source": [
    "### a) Multiplicar por 66 la fila 4 de la matriz a)"
   ]
  },
  {
   "cell_type": "code",
   "execution_count": null,
   "id": "d42d696d",
   "metadata": {},
   "outputs": [],
   "source": []
  },
  {
   "cell_type": "markdown",
   "id": "3f2f5fca",
   "metadata": {},
   "source": [
    "### b) Dividir  por 2 la fila 4 de la matriz b)"
   ]
  },
  {
   "cell_type": "code",
   "execution_count": null,
   "id": "98b177e9",
   "metadata": {},
   "outputs": [],
   "source": []
  },
  {
   "cell_type": "markdown",
   "id": "3131170b",
   "metadata": {},
   "source": [
    "\n",
    "### Crea una matriz aleatoria de 5x5 con valores entre mayores a 1\n",
    "\n"
   ]
  },
  {
   "cell_type": "code",
   "execution_count": null,
   "id": "8e4ca5ee",
   "metadata": {},
   "outputs": [],
   "source": []
  },
  {
   "cell_type": "markdown",
   "id": "8650fb17",
   "metadata": {},
   "source": [
    "\n",
    "### c) Calcular el promedio de los elementos de las primeras dos filas de la matriz b) utilizando dos for anidados"
   ]
  },
  {
   "cell_type": "code",
   "execution_count": null,
   "id": "4a5ec351",
   "metadata": {},
   "outputs": [],
   "source": []
  },
  {
   "cell_type": "markdown",
   "id": "912bcdc3",
   "metadata": {},
   "source": [
    "### Hacer de manera libre un gráfico usando ```linspace``` para definir los datos"
   ]
  },
  {
   "cell_type": "code",
   "execution_count": null,
   "id": "01a1242d",
   "metadata": {},
   "outputs": [],
   "source": []
  }
 ],
 "metadata": {
  "kernelspec": {
   "display_name": "Python 3",
   "language": "python",
   "name": "python3"
  },
  "language_info": {
   "codemirror_mode": {
    "name": "ipython",
    "version": 3
   },
   "file_extension": ".py",
   "mimetype": "text/x-python",
   "name": "python",
   "nbconvert_exporter": "python",
   "pygments_lexer": "ipython3",
   "version": "3.8.5"
  }
 },
 "nbformat": 4,
 "nbformat_minor": 5
}
